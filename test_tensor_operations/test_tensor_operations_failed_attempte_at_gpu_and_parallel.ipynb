{
 "cells": [
  {
   "cell_type": "code",
   "execution_count": 1,
   "metadata": {
    "collapsed": false
   },
   "outputs": [
    {
     "name": "stdout",
     "output_type": "stream",
     "text": [
      "Populating the interactive namespace from numpy and matplotlib\n"
     ]
    }
   ],
   "source": [
    "%pylab inline\n",
    "from numba import jit, vectorize, float32, float64\n"
   ]
  },
  {
   "cell_type": "markdown",
   "metadata": {},
   "source": [
    "## Create test data\n",
    "This is equivalent to the first-dimension-concatenated array that results from $\\nu_e$ and $\\nu_\\mu$ fluxes binned at $400 \\;E \\times 400 \\cos\\theta$ bins.\n",
    "\n",
    "The resulting *input* array is then $2\\times400\\times400$, and the transform that must (effectively) left-multiply that is $3\\times 2\\times400\\times400$.\n",
    "\n",
    "This hopefully represents a realistic scenario for performing an accurate oscillation calculation."
   ]
  },
  {
   "cell_type": "code",
   "execution_count": 2,
   "metadata": {
    "collapsed": false
   },
   "outputs": [],
   "source": [
    "np.random.seed(0)\n",
    "xform = np.array(np.random.random_sample((3, 2, 400, 400)), dtype=np.float64)\n",
    "inputs = np.array(np.random.random_sample((2, 400, 400)), dtype=np.float64)\n",
    "\n",
    "xform_fp32 = np.array(xform, dtype=np.float32)\n",
    "inputs_fp32 = np.array(inputs, dtype=np.float32)\n",
    "\n",
    "input0 = inputs[0,::]\n",
    "input1 = inputs[1,::]\n"
   ]
  },
  {
   "cell_type": "markdown",
   "metadata": {},
   "source": [
    "## Numpy using einsum"
   ]
  },
  {
   "cell_type": "markdown",
   "metadata": {},
   "source": [
    "### Float64 math on float64 inputs/transforms"
   ]
  },
  {
   "cell_type": "code",
   "execution_count": 3,
   "metadata": {
    "collapsed": false
   },
   "outputs": [
    {
     "name": "stdout",
     "output_type": "stream",
     "text": [
      "100 loops, best of 3: 10.1 ms per loop\n"
     ]
    }
   ],
   "source": [
    "%timeit np.einsum('ij..., j...', xform, inputs, dtype=np.float64, casting='unsafe');"
   ]
  },
  {
   "cell_type": "code",
   "execution_count": 4,
   "metadata": {
    "collapsed": false
   },
   "outputs": [
    {
     "name": "stdout",
     "output_type": "stream",
     "text": [
      "(400, 400, 3)\n"
     ]
    }
   ],
   "source": [
    "output_einsum = np.einsum('ij..., j...', xform, inputs)\n",
    "print output_einsum.shape"
   ]
  },
  {
   "cell_type": "markdown",
   "metadata": {},
   "source": [
    "check that it's doing what I want it to do"
   ]
  },
  {
   "cell_type": "code",
   "execution_count": 5,
   "metadata": {
    "collapsed": false
   },
   "outputs": [
    {
     "data": {
      "text/plain": [
       "array([[ 0.01560606,  0.18573089],\n",
       "       [ 0.10818345,  0.34420619],\n",
       "       [ 0.74177861,  0.28394148]])"
      ]
     },
     "execution_count": 5,
     "metadata": {},
     "output_type": "execute_result"
    }
   ],
   "source": [
    "x = xform[:,:,1,10]\n",
    "x"
   ]
  },
  {
   "cell_type": "code",
   "execution_count": 6,
   "metadata": {
    "collapsed": false
   },
   "outputs": [
    {
     "data": {
      "text/plain": [
       "array([ 0.89478297,  0.46917306])"
      ]
     },
     "execution_count": 6,
     "metadata": {},
     "output_type": "execute_result"
    }
   ],
   "source": [
    "i = inputs[:,1,10]\n",
    "i"
   ]
  },
  {
   "cell_type": "code",
   "execution_count": 7,
   "metadata": {
    "collapsed": false
   },
   "outputs": [
    {
     "data": {
      "text/plain": [
       "array([ 0.10110397,  0.25829298,  0.79694856])"
      ]
     },
     "execution_count": 7,
     "metadata": {},
     "output_type": "execute_result"
    }
   ],
   "source": [
    "o = np.dot(x, i)\n",
    "o"
   ]
  },
  {
   "cell_type": "code",
   "execution_count": 8,
   "metadata": {
    "collapsed": false
   },
   "outputs": [
    {
     "data": {
      "text/plain": [
       "array([ 0.10110397,  0.25829298,  0.79694856])"
      ]
     },
     "execution_count": 8,
     "metadata": {},
     "output_type": "execute_result"
    }
   ],
   "source": [
    "output_einsum[1,10,:]"
   ]
  },
  {
   "cell_type": "code",
   "execution_count": 9,
   "metadata": {
    "collapsed": false
   },
   "outputs": [
    {
     "data": {
      "text/plain": [
       "True"
      ]
     },
     "execution_count": 9,
     "metadata": {},
     "output_type": "execute_result"
    }
   ],
   "source": [
    "np.all(o == output_einsum[1,10,:])"
   ]
  },
  {
   "cell_type": "markdown",
   "metadata": {
    "collapsed": true
   },
   "source": [
    "### Float32 math on float64 inputs/transforms"
   ]
  },
  {
   "cell_type": "code",
   "execution_count": 10,
   "metadata": {
    "collapsed": false
   },
   "outputs": [
    {
     "name": "stdout",
     "output_type": "stream",
     "text": [
      "100 loops, best of 3: 6 ms per loop\n"
     ]
    }
   ],
   "source": [
    "%timeit np.einsum('ij..., j...', xform, inputs, dtype=np.float32, casting='unsafe');"
   ]
  },
  {
   "cell_type": "markdown",
   "metadata": {
    "collapsed": true
   },
   "source": [
    "### Float32 math on float32 inputs/transforms"
   ]
  },
  {
   "cell_type": "code",
   "execution_count": 11,
   "metadata": {
    "collapsed": false
   },
   "outputs": [
    {
     "name": "stdout",
     "output_type": "stream",
     "text": [
      "100 loops, best of 3: 3.08 ms per loop\n"
     ]
    }
   ],
   "source": [
    "%timeit np.einsum('ij..., j...', xform_fp32, inputs_fp32, dtype=np.float32, casting='no');"
   ]
  },
  {
   "cell_type": "markdown",
   "metadata": {},
   "source": [
    "## Python looping"
   ]
  },
  {
   "cell_type": "code",
   "execution_count": 12,
   "metadata": {
    "collapsed": false
   },
   "outputs": [],
   "source": [
    "def apply_python(inputs, transform):\n",
    "    N_k = inputs.shape[1]\n",
    "    N_l = inputs.shape[2]\n",
    "    output = np.empty((N_k, N_l, 3), np.float64)\n",
    "    for k in range(N_k):\n",
    "        for l in range(N_l):\n",
    "            output[k,l,0] = (\n",
    "                transform[0,0,k,l]*inputs[0,k,l] +\n",
    "                transform[0,1,k,l]*inputs[1,k,l]\n",
    "            )\n",
    "            output[k,l,1] = (\n",
    "                transform[1,0,k,l]*inputs[0,k,l] +\n",
    "                transform[1,1,k,l]*inputs[1,k,l]\n",
    "            )\n",
    "            output[k,l,2] = (\n",
    "                transform[2,0,k,l]*inputs[0,k,l] +\n",
    "                transform[2,1,k,l]*inputs[1,k,l]\n",
    "            )\n",
    "    return output"
   ]
  },
  {
   "cell_type": "markdown",
   "metadata": {},
   "source": [
    "### Float64 operands"
   ]
  },
  {
   "cell_type": "code",
   "execution_count": 13,
   "metadata": {
    "collapsed": false
   },
   "outputs": [
    {
     "name": "stdout",
     "output_type": "stream",
     "text": [
      "1 loop, best of 3: 750 ms per loop\n"
     ]
    }
   ],
   "source": [
    "%timeit apply_python(inputs, xform);"
   ]
  },
  {
   "cell_type": "code",
   "execution_count": 14,
   "metadata": {
    "collapsed": false
   },
   "outputs": [
    {
     "data": {
      "text/plain": [
       "True"
      ]
     },
     "execution_count": 14,
     "metadata": {},
     "output_type": "execute_result"
    }
   ],
   "source": [
    "output_python = apply_python(inputs, xform)\n",
    "np.all(output_python == output_einsum)"
   ]
  },
  {
   "cell_type": "markdown",
   "metadata": {},
   "source": [
    "### Float32 operands"
   ]
  },
  {
   "cell_type": "code",
   "execution_count": 15,
   "metadata": {
    "collapsed": false
   },
   "outputs": [
    {
     "name": "stdout",
     "output_type": "stream",
     "text": [
      "1 loop, best of 3: 810 ms per loop\n"
     ]
    }
   ],
   "source": [
    "%timeit apply_python(inputs_fp32, xform_fp32);"
   ]
  },
  {
   "cell_type": "markdown",
   "metadata": {},
   "source": [
    "## Numba"
   ]
  },
  {
   "cell_type": "markdown",
   "metadata": {},
   "source": [
    "### Float64 math on float64 operands"
   ]
  },
  {
   "cell_type": "code",
   "execution_count": 16,
   "metadata": {
    "collapsed": false
   },
   "outputs": [],
   "source": [
    "@jit(\"float64[:,:,:](float64[:,:,:], float64[:,:,:,:])\", nopython=False, nogil=True, cache=True)\n",
    "def apply_numba(inputs, transform):\n",
    "    N_k = inputs.shape[1]\n",
    "    N_l = inputs.shape[2]\n",
    "    output = np.empty((N_k, N_l, 3), float64)\n",
    "    for k in range(N_k):\n",
    "        for l in range(N_l):\n",
    "            output[k,l,0] = (\n",
    "                transform[0,0,k,l]*inputs[0,k,l] +\n",
    "                transform[0,1,k,l]*inputs[1,k,l]\n",
    "            )\n",
    "            output[k,l,1] = (\n",
    "                transform[1,0,k,l]*inputs[0,k,l] +\n",
    "                transform[1,1,k,l]*inputs[1,k,l]\n",
    "            )\n",
    "            output[k,l,2] = (\n",
    "                transform[2,0,k,l]*inputs[0,k,l] +\n",
    "                transform[2,1,k,l]*inputs[1,k,l]\n",
    "            )\n",
    "    return output"
   ]
  },
  {
   "cell_type": "code",
   "execution_count": 17,
   "metadata": {
    "collapsed": false
   },
   "outputs": [
    {
     "name": "stdout",
     "output_type": "stream",
     "text": [
      "100 loops, best of 3: 4.79 ms per loop\n"
     ]
    }
   ],
   "source": [
    "%timeit apply_numba(inputs, xform)"
   ]
  },
  {
   "cell_type": "code",
   "execution_count": 18,
   "metadata": {
    "collapsed": false
   },
   "outputs": [
    {
     "data": {
      "text/plain": [
       "True"
      ]
     },
     "execution_count": 18,
     "metadata": {},
     "output_type": "execute_result"
    }
   ],
   "source": [
    "output_numba = apply_numba(inputs, xform)\n",
    "np.all(output_numba == output_einsum)"
   ]
  },
  {
   "cell_type": "markdown",
   "metadata": {},
   "source": [
    "### Float32 math on float32 operands"
   ]
  },
  {
   "cell_type": "code",
   "execution_count": 19,
   "metadata": {
    "collapsed": false
   },
   "outputs": [],
   "source": [
    "@jit(\"float32[:,:,:](float32[:,:,:], float32[:,:,:,:])\", nopython=True, nogil=True, cache=True)\n",
    "def apply_numba_fp32(inputs, transform):\n",
    "    N_k = inputs.shape[1]\n",
    "    N_l = inputs.shape[2]\n",
    "    output = np.empty((N_k, N_l, 3), float32)\n",
    "    for k in range(N_k):\n",
    "        for l in range(N_l):\n",
    "            output[k,l,0] = (\n",
    "                transform[0,0,k,l]*inputs[0,k,l] +\n",
    "                transform[0,1,k,l]*inputs[1,k,l]\n",
    "            )\n",
    "            output[k,l,1] = (\n",
    "                transform[1,0,k,l]*inputs[0,k,l] +\n",
    "                transform[1,1,k,l]*inputs[1,k,l]\n",
    "            )\n",
    "            output[k,l,2] = (\n",
    "                transform[2,0,k,l]*inputs[0,k,l] +\n",
    "                transform[2,1,k,l]*inputs[1,k,l]\n",
    "            )\n",
    "    return output"
   ]
  },
  {
   "cell_type": "code",
   "execution_count": 20,
   "metadata": {
    "collapsed": false
   },
   "outputs": [
    {
     "name": "stdout",
     "output_type": "stream",
     "text": [
      "100 loops, best of 3: 2.28 ms per loop\n"
     ]
    }
   ],
   "source": [
    "%timeit apply_numba_fp32(inputs_fp32, xform_fp32)"
   ]
  },
  {
   "cell_type": "markdown",
   "metadata": {},
   "source": [
    "### Parallelize"
   ]
  },
  {
   "cell_type": "code",
   "execution_count": 19,
   "metadata": {
    "collapsed": false
   },
   "outputs": [],
   "source": [
    "@jit(\"float32[:,:,:](float32[:,:,:], float32[:,:,:,:])\", nopython=True, nogil=True, cache=True)\n",
    "def apply_numba_fp32(inputs, transform):\n",
    "    N_k = inputs.shape[1]\n",
    "    N_l = inputs.shape[2]\n",
    "    output = np.empty((N_k, N_l, 3), float32)\n",
    "    for k in range(N_k):\n",
    "        for l in range(N_l):\n",
    "            output[k,l,0] = (\n",
    "                transform[0,0,k,l]*inputs[0,k,l] +\n",
    "                transform[0,1,k,l]*inputs[1,k,l]\n",
    "            )\n",
    "            output[k,l,1] = (\n",
    "                transform[1,0,k,l]*inputs[0,k,l] +\n",
    "                transform[1,1,k,l]*inputs[1,k,l]\n",
    "            )\n",
    "            output[k,l,2] = (\n",
    "                transform[2,0,k,l]*inputs[0,k,l] +\n",
    "                transform[2,1,k,l]*inputs[1,k,l]\n",
    "            )\n",
    "    return output"
   ]
  },
  {
   "cell_type": "markdown",
   "metadata": {},
   "source": [
    "# Attempting to compile to GPU"
   ]
  },
  {
   "cell_type": "code",
   "execution_count": 27,
   "metadata": {
    "collapsed": false
   },
   "outputs": [
    {
     "ename": "TypingError",
     "evalue": "Caused By:\nTraceback (most recent call last):\n  File \"/home/justin/anaconda2/lib/python2.7/site-packages/numba/compiler.py\", line 243, in run\n    res = stage()\n  File \"/home/justin/anaconda2/lib/python2.7/site-packages/numba/compiler.py\", line 463, in stage_nopython_frontend\n    self.locals)\n  File \"/home/justin/anaconda2/lib/python2.7/site-packages/numba/compiler.py\", line 780, in type_inference_stage\n    infer.propagate()\n  File \"/home/justin/anaconda2/lib/python2.7/site-packages/numba/typeinfer.py\", line 565, in propagate\n    raise errors[0]\nTypingError: No conversion from array(float32, 3d, A) to none for '$339.2'\n\nFailed at nopython (nopython frontend)\nNo conversion from array(float32, 3d, A) to none for '$339.2'",
     "output_type": "error",
     "traceback": [
      "\u001b[1;31m---------------------------------------------------------------------------\u001b[0m",
      "\u001b[1;31mTypingError\u001b[0m                               Traceback (most recent call last)",
      "\u001b[1;32m<ipython-input-27-590b6066dfb1>\u001b[0m in \u001b[0;36m<module>\u001b[1;34m()\u001b[0m\n\u001b[1;32m----> 1\u001b[1;33m \u001b[1;33m@\u001b[0m\u001b[0mjit\u001b[0m\u001b[1;33m(\u001b[0m\u001b[1;34m\"float32[:,:,:], float32[:,:,:,:], float32[:,:,:]\"\u001b[0m\u001b[1;33m,\u001b[0m \u001b[0mtarget\u001b[0m\u001b[1;33m=\u001b[0m\u001b[1;34m'cuda'\u001b[0m\u001b[1;33m)\u001b[0m \u001b[1;31m#nopython=True, nogil=True, cache=True)\u001b[0m\u001b[1;33m\u001b[0m\u001b[0m\n\u001b[0m\u001b[0;32m      2\u001b[0m \u001b[1;32mdef\u001b[0m \u001b[0mapply_numba_fp32\u001b[0m\u001b[1;33m(\u001b[0m\u001b[0minputs\u001b[0m\u001b[1;33m,\u001b[0m \u001b[0mtransform\u001b[0m\u001b[1;33m,\u001b[0m \u001b[0moutput\u001b[0m\u001b[1;33m)\u001b[0m\u001b[1;33m:\u001b[0m\u001b[1;33m\u001b[0m\u001b[0m\n\u001b[0;32m      3\u001b[0m     \u001b[0mN_k\u001b[0m \u001b[1;33m=\u001b[0m \u001b[0minputs\u001b[0m\u001b[1;33m.\u001b[0m\u001b[0mshape\u001b[0m\u001b[1;33m[\u001b[0m\u001b[1;36m1\u001b[0m\u001b[1;33m]\u001b[0m\u001b[1;33m\u001b[0m\u001b[0m\n\u001b[0;32m      4\u001b[0m     \u001b[0mN_l\u001b[0m \u001b[1;33m=\u001b[0m \u001b[0minputs\u001b[0m\u001b[1;33m.\u001b[0m\u001b[0mshape\u001b[0m\u001b[1;33m[\u001b[0m\u001b[1;36m2\u001b[0m\u001b[1;33m]\u001b[0m\u001b[1;33m\u001b[0m\u001b[0m\n\u001b[0;32m      5\u001b[0m     \u001b[1;31m#output = np.empty((N_k, N_l, 3), float32)\u001b[0m\u001b[1;33m\u001b[0m\u001b[1;33m\u001b[0m\u001b[0m\n",
      "\u001b[1;32m/home/justin/anaconda2/lib/python2.7/site-packages/numba/decorators.pyc\u001b[0m in \u001b[0;36mwrapper\u001b[1;34m(func)\u001b[0m\n\u001b[0;32m    166\u001b[0m         \u001b[1;32mif\u001b[0m \u001b[0msigs\u001b[0m \u001b[1;32mis\u001b[0m \u001b[1;32mnot\u001b[0m \u001b[0mNone\u001b[0m\u001b[1;33m:\u001b[0m\u001b[1;33m\u001b[0m\u001b[0m\n\u001b[0;32m    167\u001b[0m             \u001b[1;32mfor\u001b[0m \u001b[0msig\u001b[0m \u001b[1;32min\u001b[0m \u001b[0msigs\u001b[0m\u001b[1;33m:\u001b[0m\u001b[1;33m\u001b[0m\u001b[0m\n\u001b[1;32m--> 168\u001b[1;33m                 \u001b[0mdisp\u001b[0m\u001b[1;33m.\u001b[0m\u001b[0mcompile\u001b[0m\u001b[1;33m(\u001b[0m\u001b[0msig\u001b[0m\u001b[1;33m)\u001b[0m\u001b[1;33m\u001b[0m\u001b[0m\n\u001b[0m\u001b[0;32m    169\u001b[0m             \u001b[0mdisp\u001b[0m\u001b[1;33m.\u001b[0m\u001b[0mdisable_compile\u001b[0m\u001b[1;33m(\u001b[0m\u001b[1;33m)\u001b[0m\u001b[1;33m\u001b[0m\u001b[0m\n\u001b[0;32m    170\u001b[0m         \u001b[1;32mreturn\u001b[0m \u001b[0mdisp\u001b[0m\u001b[1;33m\u001b[0m\u001b[0m\n",
      "\u001b[1;32m/home/justin/anaconda2/lib/python2.7/site-packages/numba/cuda/dispatcher.pyc\u001b[0m in \u001b[0;36mcompile\u001b[1;34m(self, sig, locals, **targetoptions)\u001b[0m\n\u001b[0;32m     35\u001b[0m         \u001b[0moptions\u001b[0m \u001b[1;33m=\u001b[0m \u001b[0mself\u001b[0m\u001b[1;33m.\u001b[0m\u001b[0mtargetoptions\u001b[0m\u001b[1;33m.\u001b[0m\u001b[0mcopy\u001b[0m\u001b[1;33m(\u001b[0m\u001b[1;33m)\u001b[0m\u001b[1;33m\u001b[0m\u001b[0m\n\u001b[0;32m     36\u001b[0m         \u001b[0moptions\u001b[0m\u001b[1;33m.\u001b[0m\u001b[0mupdate\u001b[0m\u001b[1;33m(\u001b[0m\u001b[0mtargetoptions\u001b[0m\u001b[1;33m)\u001b[0m\u001b[1;33m\u001b[0m\u001b[0m\n\u001b[1;32m---> 37\u001b[1;33m         \u001b[0mkernel\u001b[0m \u001b[1;33m=\u001b[0m \u001b[0mjit\u001b[0m\u001b[1;33m(\u001b[0m\u001b[0msig\u001b[0m\u001b[1;33m,\u001b[0m \u001b[1;33m**\u001b[0m\u001b[0moptions\u001b[0m\u001b[1;33m)\u001b[0m\u001b[1;33m(\u001b[0m\u001b[0mself\u001b[0m\u001b[1;33m.\u001b[0m\u001b[0mpy_func\u001b[0m\u001b[1;33m)\u001b[0m\u001b[1;33m\u001b[0m\u001b[0m\n\u001b[0m\u001b[0;32m     38\u001b[0m         \u001b[0mself\u001b[0m\u001b[1;33m.\u001b[0m\u001b[0m_compiled\u001b[0m \u001b[1;33m=\u001b[0m \u001b[0mkernel\u001b[0m\u001b[1;33m\u001b[0m\u001b[0m\n\u001b[0;32m     39\u001b[0m         \u001b[1;32mif\u001b[0m \u001b[0mhasattr\u001b[0m\u001b[1;33m(\u001b[0m\u001b[0mkernel\u001b[0m\u001b[1;33m,\u001b[0m \u001b[1;34m\"_npm_context_\"\u001b[0m\u001b[1;33m)\u001b[0m\u001b[1;33m:\u001b[0m\u001b[1;33m\u001b[0m\u001b[0m\n",
      "\u001b[1;32m/home/justin/anaconda2/lib/python2.7/site-packages/numba/cuda/decorators.pyc\u001b[0m in \u001b[0;36mkernel_jit\u001b[1;34m(func)\u001b[0m\n\u001b[0;32m     86\u001b[0m         \u001b[1;32mdef\u001b[0m \u001b[0mkernel_jit\u001b[0m\u001b[1;33m(\u001b[0m\u001b[0mfunc\u001b[0m\u001b[1;33m)\u001b[0m\u001b[1;33m:\u001b[0m\u001b[1;33m\u001b[0m\u001b[0m\n\u001b[0;32m     87\u001b[0m             kernel = compile_kernel(func, argtypes, link=link, debug=debug,\n\u001b[1;32m---> 88\u001b[1;33m                                     inline=inline, fastmath=fastmath)\n\u001b[0m\u001b[0;32m     89\u001b[0m \u001b[1;33m\u001b[0m\u001b[0m\n\u001b[0;32m     90\u001b[0m             \u001b[1;31m# Force compilation for the current context\u001b[0m\u001b[1;33m\u001b[0m\u001b[1;33m\u001b[0m\u001b[0m\n",
      "\u001b[1;32m/home/justin/anaconda2/lib/python2.7/site-packages/numba/cuda/compiler.pyc\u001b[0m in \u001b[0;36mcompile_kernel\u001b[1;34m(pyfunc, args, link, debug, inline, fastmath)\u001b[0m\n\u001b[0;32m     48\u001b[0m def compile_kernel(pyfunc, args, link, debug=False, inline=False,\n\u001b[0;32m     49\u001b[0m                    fastmath=False):\n\u001b[1;32m---> 50\u001b[1;33m     \u001b[0mcres\u001b[0m \u001b[1;33m=\u001b[0m \u001b[0mcompile_cuda\u001b[0m\u001b[1;33m(\u001b[0m\u001b[0mpyfunc\u001b[0m\u001b[1;33m,\u001b[0m \u001b[0mtypes\u001b[0m\u001b[1;33m.\u001b[0m\u001b[0mvoid\u001b[0m\u001b[1;33m,\u001b[0m \u001b[0margs\u001b[0m\u001b[1;33m,\u001b[0m \u001b[0mdebug\u001b[0m\u001b[1;33m=\u001b[0m\u001b[0mdebug\u001b[0m\u001b[1;33m,\u001b[0m \u001b[0minline\u001b[0m\u001b[1;33m=\u001b[0m\u001b[0minline\u001b[0m\u001b[1;33m)\u001b[0m\u001b[1;33m\u001b[0m\u001b[0m\n\u001b[0m\u001b[0;32m     51\u001b[0m     \u001b[0mfunc\u001b[0m \u001b[1;33m=\u001b[0m \u001b[0mcres\u001b[0m\u001b[1;33m.\u001b[0m\u001b[0mlibrary\u001b[0m\u001b[1;33m.\u001b[0m\u001b[0mget_function\u001b[0m\u001b[1;33m(\u001b[0m\u001b[0mcres\u001b[0m\u001b[1;33m.\u001b[0m\u001b[0mfndesc\u001b[0m\u001b[1;33m.\u001b[0m\u001b[0mllvm_func_name\u001b[0m\u001b[1;33m)\u001b[0m\u001b[1;33m\u001b[0m\u001b[0m\n\u001b[0;32m     52\u001b[0m     kernel = cres.target_context.prepare_cuda_kernel(func,\n",
      "\u001b[1;32m/home/justin/anaconda2/lib/python2.7/site-packages/numba/cuda/compiler.pyc\u001b[0m in \u001b[0;36mcompile_cuda\u001b[1;34m(pyfunc, return_type, args, debug, inline)\u001b[0m\n\u001b[0;32m     38\u001b[0m                                   \u001b[0mreturn_type\u001b[0m\u001b[1;33m=\u001b[0m\u001b[0mreturn_type\u001b[0m\u001b[1;33m,\u001b[0m\u001b[1;33m\u001b[0m\u001b[0m\n\u001b[0;32m     39\u001b[0m                                   \u001b[0mflags\u001b[0m\u001b[1;33m=\u001b[0m\u001b[0mflags\u001b[0m\u001b[1;33m,\u001b[0m\u001b[1;33m\u001b[0m\u001b[0m\n\u001b[1;32m---> 40\u001b[1;33m                                   locals={})\n\u001b[0m\u001b[0;32m     41\u001b[0m \u001b[1;33m\u001b[0m\u001b[0m\n\u001b[0;32m     42\u001b[0m     \u001b[0mlibrary\u001b[0m \u001b[1;33m=\u001b[0m \u001b[0mcres\u001b[0m\u001b[1;33m.\u001b[0m\u001b[0mlibrary\u001b[0m\u001b[1;33m\u001b[0m\u001b[0m\n",
      "\u001b[1;32m/home/justin/anaconda2/lib/python2.7/site-packages/numba/compiler.pyc\u001b[0m in \u001b[0;36mcompile_extra\u001b[1;34m(typingctx, targetctx, func, args, return_type, flags, locals, library)\u001b[0m\n\u001b[0;32m    663\u001b[0m     pipeline = Pipeline(typingctx, targetctx, library,\n\u001b[0;32m    664\u001b[0m                         args, return_type, flags, locals)\n\u001b[1;32m--> 665\u001b[1;33m     \u001b[1;32mreturn\u001b[0m \u001b[0mpipeline\u001b[0m\u001b[1;33m.\u001b[0m\u001b[0mcompile_extra\u001b[0m\u001b[1;33m(\u001b[0m\u001b[0mfunc\u001b[0m\u001b[1;33m)\u001b[0m\u001b[1;33m\u001b[0m\u001b[0m\n\u001b[0m\u001b[0;32m    666\u001b[0m \u001b[1;33m\u001b[0m\u001b[0m\n\u001b[0;32m    667\u001b[0m \u001b[1;33m\u001b[0m\u001b[0m\n",
      "\u001b[1;32m/home/justin/anaconda2/lib/python2.7/site-packages/numba/compiler.pyc\u001b[0m in \u001b[0;36mcompile_extra\u001b[1;34m(self, func)\u001b[0m\n\u001b[0;32m    364\u001b[0m                 \u001b[1;32mraise\u001b[0m \u001b[0me\u001b[0m\u001b[1;33m\u001b[0m\u001b[0m\n\u001b[0;32m    365\u001b[0m \u001b[1;33m\u001b[0m\u001b[0m\n\u001b[1;32m--> 366\u001b[1;33m         \u001b[1;32mreturn\u001b[0m \u001b[0mself\u001b[0m\u001b[1;33m.\u001b[0m\u001b[0mcompile_bytecode\u001b[0m\u001b[1;33m(\u001b[0m\u001b[0mbc\u001b[0m\u001b[1;33m,\u001b[0m \u001b[0mfunc_attr\u001b[0m\u001b[1;33m=\u001b[0m\u001b[0mself\u001b[0m\u001b[1;33m.\u001b[0m\u001b[0mfunc_attr\u001b[0m\u001b[1;33m)\u001b[0m\u001b[1;33m\u001b[0m\u001b[0m\n\u001b[0m\u001b[0;32m    367\u001b[0m \u001b[1;33m\u001b[0m\u001b[0m\n\u001b[0;32m    368\u001b[0m     def compile_bytecode(self, bc, lifted=(), lifted_from=None,\n",
      "\u001b[1;32m/home/justin/anaconda2/lib/python2.7/site-packages/numba/compiler.pyc\u001b[0m in \u001b[0;36mcompile_bytecode\u001b[1;34m(self, bc, lifted, lifted_from, func_attr)\u001b[0m\n\u001b[0;32m    373\u001b[0m         \u001b[0mself\u001b[0m\u001b[1;33m.\u001b[0m\u001b[0mlifted_from\u001b[0m \u001b[1;33m=\u001b[0m \u001b[0mlifted_from\u001b[0m\u001b[1;33m\u001b[0m\u001b[0m\n\u001b[0;32m    374\u001b[0m         \u001b[0mself\u001b[0m\u001b[1;33m.\u001b[0m\u001b[0mfunc_attr\u001b[0m \u001b[1;33m=\u001b[0m \u001b[0mfunc_attr\u001b[0m\u001b[1;33m\u001b[0m\u001b[0m\n\u001b[1;32m--> 375\u001b[1;33m         \u001b[1;32mreturn\u001b[0m \u001b[0mself\u001b[0m\u001b[1;33m.\u001b[0m\u001b[0m_compile_bytecode\u001b[0m\u001b[1;33m(\u001b[0m\u001b[1;33m)\u001b[0m\u001b[1;33m\u001b[0m\u001b[0m\n\u001b[0m\u001b[0;32m    376\u001b[0m \u001b[1;33m\u001b[0m\u001b[0m\n\u001b[0;32m    377\u001b[0m     \u001b[1;32mdef\u001b[0m \u001b[0mcompile_internal\u001b[0m\u001b[1;33m(\u001b[0m\u001b[0mself\u001b[0m\u001b[1;33m,\u001b[0m \u001b[0mbc\u001b[0m\u001b[1;33m,\u001b[0m \u001b[0mfunc_attr\u001b[0m\u001b[1;33m=\u001b[0m\u001b[0mDEFAULT_FUNCTION_ATTRIBUTES\u001b[0m\u001b[1;33m)\u001b[0m\u001b[1;33m:\u001b[0m\u001b[1;33m\u001b[0m\u001b[0m\n",
      "\u001b[1;32m/home/justin/anaconda2/lib/python2.7/site-packages/numba/compiler.pyc\u001b[0m in \u001b[0;36m_compile_bytecode\u001b[1;34m(self)\u001b[0m\n\u001b[0;32m    650\u001b[0m \u001b[1;33m\u001b[0m\u001b[0m\n\u001b[0;32m    651\u001b[0m         \u001b[0mpm\u001b[0m\u001b[1;33m.\u001b[0m\u001b[0mfinalize\u001b[0m\u001b[1;33m(\u001b[0m\u001b[1;33m)\u001b[0m\u001b[1;33m\u001b[0m\u001b[0m\n\u001b[1;32m--> 652\u001b[1;33m         \u001b[1;32mreturn\u001b[0m \u001b[0mpm\u001b[0m\u001b[1;33m.\u001b[0m\u001b[0mrun\u001b[0m\u001b[1;33m(\u001b[0m\u001b[0mself\u001b[0m\u001b[1;33m.\u001b[0m\u001b[0mstatus\u001b[0m\u001b[1;33m)\u001b[0m\u001b[1;33m\u001b[0m\u001b[0m\n\u001b[0m\u001b[0;32m    653\u001b[0m \u001b[1;33m\u001b[0m\u001b[0m\n\u001b[0;32m    654\u001b[0m \u001b[1;33m\u001b[0m\u001b[0m\n",
      "\u001b[1;32m/home/justin/anaconda2/lib/python2.7/site-packages/numba/compiler.pyc\u001b[0m in \u001b[0;36mrun\u001b[1;34m(self, status)\u001b[0m\n\u001b[0;32m    249\u001b[0m                     \u001b[1;31m# No more fallback pipelines?\u001b[0m\u001b[1;33m\u001b[0m\u001b[1;33m\u001b[0m\u001b[0m\n\u001b[0;32m    250\u001b[0m                     \u001b[1;32mif\u001b[0m \u001b[0mis_final_pipeline\u001b[0m\u001b[1;33m:\u001b[0m\u001b[1;33m\u001b[0m\u001b[0m\n\u001b[1;32m--> 251\u001b[1;33m                         \u001b[1;32mraise\u001b[0m \u001b[0mpatched_exception\u001b[0m\u001b[1;33m\u001b[0m\u001b[0m\n\u001b[0m\u001b[0;32m    252\u001b[0m                     \u001b[1;31m# Go to next fallback pipeline\u001b[0m\u001b[1;33m\u001b[0m\u001b[1;33m\u001b[0m\u001b[0m\n\u001b[0;32m    253\u001b[0m                     \u001b[1;32melse\u001b[0m\u001b[1;33m:\u001b[0m\u001b[1;33m\u001b[0m\u001b[0m\n",
      "\u001b[1;31mTypingError\u001b[0m: Caused By:\nTraceback (most recent call last):\n  File \"/home/justin/anaconda2/lib/python2.7/site-packages/numba/compiler.py\", line 243, in run\n    res = stage()\n  File \"/home/justin/anaconda2/lib/python2.7/site-packages/numba/compiler.py\", line 463, in stage_nopython_frontend\n    self.locals)\n  File \"/home/justin/anaconda2/lib/python2.7/site-packages/numba/compiler.py\", line 780, in type_inference_stage\n    infer.propagate()\n  File \"/home/justin/anaconda2/lib/python2.7/site-packages/numba/typeinfer.py\", line 565, in propagate\n    raise errors[0]\nTypingError: No conversion from array(float32, 3d, A) to none for '$339.2'\n\nFailed at nopython (nopython frontend)\nNo conversion from array(float32, 3d, A) to none for '$339.2'"
     ]
    }
   ],
   "source": [
    "@jit(\"float32[:,:,:], float32[:,:,:,:], float32[:,:,:]\", target='cuda') #nopython=True, nogil=True, cache=True)\n",
    "def apply_numba_fp32(inputs, transform, output):\n",
    "    N_k = inputs.shape[1]\n",
    "    N_l = inputs.shape[2]\n",
    "    #output = np.empty((N_k, N_l, 3), float32)\n",
    "    for k in range(N_k):\n",
    "        for l in range(N_l):\n",
    "            output[k,l,0] = (\n",
    "                transform[0,0,k,l]*inputs[0,k,l] +\n",
    "                transform[0,1,k,l]*inputs[1,k,l]\n",
    "            )\n",
    "            output[k,l,1] = (\n",
    "                transform[1,0,k,l]*inputs[0,k,l] +\n",
    "                transform[1,1,k,l]*inputs[1,k,l]\n",
    "            )\n",
    "            output[k,l,2] = (\n",
    "                transform[2,0,k,l]*inputs[0,k,l] +\n",
    "                transform[2,1,k,l]*inputs[1,k,l]\n",
    "            )\n",
    "    return output"
   ]
  },
  {
   "cell_type": "code",
   "execution_count": 25,
   "metadata": {
    "collapsed": false
   },
   "outputs": [
    {
     "ename": "UntypedAttributeError",
     "evalue": "Caused By:\nTraceback (most recent call last):\n  File \"/home/justin/anaconda2/lib/python2.7/site-packages/numba/compiler.py\", line 243, in run\n    res = stage()\n  File \"/home/justin/anaconda2/lib/python2.7/site-packages/numba/compiler.py\", line 463, in stage_nopython_frontend\n    self.locals)\n  File \"/home/justin/anaconda2/lib/python2.7/site-packages/numba/compiler.py\", line 780, in type_inference_stage\n    infer.propagate()\n  File \"/home/justin/anaconda2/lib/python2.7/site-packages/numba/typeinfer.py\", line 565, in propagate\n    raise errors[0]\nUntypedAttributeError: Unknown attribute \"shape\" of type float32\nFile \"<ipython-input-25-1d5d227fed47>\", line 4\n\nFailed at nopython (nopython frontend)\nUnknown attribute \"shape\" of type float32\nFile \"<ipython-input-25-1d5d227fed47>\", line 4",
     "output_type": "error",
     "traceback": [
      "\u001b[1;31m---------------------------------------------------------------------------\u001b[0m",
      "\u001b[1;31mUntypedAttributeError\u001b[0m                     Traceback (most recent call last)",
      "\u001b[1;32m<ipython-input-25-1d5d227fed47>\u001b[0m in \u001b[0;36m<module>\u001b[1;34m()\u001b[0m\n\u001b[0;32m      1\u001b[0m @vectorize(\"float32(float32, float32, float32)\",\n\u001b[1;32m----> 2\u001b[1;33m            nopython=True, target='parallel')\n\u001b[0m\u001b[0;32m      3\u001b[0m \u001b[1;32mdef\u001b[0m \u001b[0mapply_numba_fp32\u001b[0m\u001b[1;33m(\u001b[0m\u001b[0minputs\u001b[0m\u001b[1;33m,\u001b[0m \u001b[0mtransform\u001b[0m\u001b[1;33m,\u001b[0m \u001b[0moutput\u001b[0m\u001b[1;33m)\u001b[0m\u001b[1;33m:\u001b[0m\u001b[1;33m\u001b[0m\u001b[0m\n\u001b[0;32m      4\u001b[0m     \u001b[0mN_k\u001b[0m \u001b[1;33m=\u001b[0m \u001b[0minputs\u001b[0m\u001b[1;33m.\u001b[0m\u001b[0mshape\u001b[0m\u001b[1;33m[\u001b[0m\u001b[1;36m1\u001b[0m\u001b[1;33m]\u001b[0m\u001b[1;33m\u001b[0m\u001b[0m\n\u001b[0;32m      5\u001b[0m     \u001b[0mN_l\u001b[0m \u001b[1;33m=\u001b[0m \u001b[0minputs\u001b[0m\u001b[1;33m.\u001b[0m\u001b[0mshape\u001b[0m\u001b[1;33m[\u001b[0m\u001b[1;36m2\u001b[0m\u001b[1;33m]\u001b[0m\u001b[1;33m\u001b[0m\u001b[0m\n",
      "\u001b[1;32m/home/justin/anaconda2/lib/python2.7/site-packages/numba/npyufunc/decorators.pyc\u001b[0m in \u001b[0;36mwrap\u001b[1;34m(func)\u001b[0m\n\u001b[0;32m    108\u001b[0m         \u001b[0mvec\u001b[0m \u001b[1;33m=\u001b[0m \u001b[0mVectorize\u001b[0m\u001b[1;33m(\u001b[0m\u001b[0mfunc\u001b[0m\u001b[1;33m,\u001b[0m \u001b[1;33m**\u001b[0m\u001b[0mkws\u001b[0m\u001b[1;33m)\u001b[0m\u001b[1;33m\u001b[0m\u001b[0m\n\u001b[0;32m    109\u001b[0m         \u001b[1;32mfor\u001b[0m \u001b[0msig\u001b[0m \u001b[1;32min\u001b[0m \u001b[0mftylist\u001b[0m\u001b[1;33m:\u001b[0m\u001b[1;33m\u001b[0m\u001b[0m\n\u001b[1;32m--> 110\u001b[1;33m             \u001b[0mvec\u001b[0m\u001b[1;33m.\u001b[0m\u001b[0madd\u001b[0m\u001b[1;33m(\u001b[0m\u001b[0msig\u001b[0m\u001b[1;33m)\u001b[0m\u001b[1;33m\u001b[0m\u001b[0m\n\u001b[0m\u001b[0;32m    111\u001b[0m         \u001b[1;32mif\u001b[0m \u001b[0mlen\u001b[0m\u001b[1;33m(\u001b[0m\u001b[0mftylist\u001b[0m\u001b[1;33m)\u001b[0m \u001b[1;33m>\u001b[0m \u001b[1;36m0\u001b[0m\u001b[1;33m:\u001b[0m\u001b[1;33m\u001b[0m\u001b[0m\n\u001b[0;32m    112\u001b[0m             \u001b[0mvec\u001b[0m\u001b[1;33m.\u001b[0m\u001b[0mdisable_compile\u001b[0m\u001b[1;33m(\u001b[0m\u001b[1;33m)\u001b[0m\u001b[1;33m\u001b[0m\u001b[0m\n",
      "\u001b[1;32m/home/justin/anaconda2/lib/python2.7/site-packages/numba/npyufunc/ufuncbuilder.pyc\u001b[0m in \u001b[0;36madd\u001b[1;34m(self, sig)\u001b[0m\n\u001b[0;32m    158\u001b[0m             \u001b[0mtargetoptions\u001b[0m \u001b[1;33m=\u001b[0m \u001b[0mself\u001b[0m\u001b[1;33m.\u001b[0m\u001b[0mnb_func\u001b[0m\u001b[1;33m.\u001b[0m\u001b[0mtargetoptions\u001b[0m\u001b[1;33m\u001b[0m\u001b[0m\n\u001b[0;32m    159\u001b[0m         cres, args, return_type = _compile_element_wise_function(\n\u001b[1;32m--> 160\u001b[1;33m             self.nb_func, targetoptions, sig)\n\u001b[0m\u001b[0;32m    161\u001b[0m         \u001b[0msig\u001b[0m \u001b[1;33m=\u001b[0m \u001b[0mself\u001b[0m\u001b[1;33m.\u001b[0m\u001b[0m_finalize_signature\u001b[0m\u001b[1;33m(\u001b[0m\u001b[0mcres\u001b[0m\u001b[1;33m,\u001b[0m \u001b[0margs\u001b[0m\u001b[1;33m,\u001b[0m \u001b[0mreturn_type\u001b[0m\u001b[1;33m)\u001b[0m\u001b[1;33m\u001b[0m\u001b[0m\n\u001b[0;32m    162\u001b[0m         \u001b[0mself\u001b[0m\u001b[1;33m.\u001b[0m\u001b[0m_sigs\u001b[0m\u001b[1;33m.\u001b[0m\u001b[0mappend\u001b[0m\u001b[1;33m(\u001b[0m\u001b[0msig\u001b[0m\u001b[1;33m)\u001b[0m\u001b[1;33m\u001b[0m\u001b[0m\n",
      "\u001b[1;32m/home/justin/anaconda2/lib/python2.7/site-packages/numba/npyufunc/ufuncbuilder.pyc\u001b[0m in \u001b[0;36m_compile_element_wise_function\u001b[1;34m(nb_func, targetoptions, sig)\u001b[0m\n\u001b[0;32m     80\u001b[0m     \u001b[1;31m# Do compilation\u001b[0m\u001b[1;33m\u001b[0m\u001b[1;33m\u001b[0m\u001b[0m\n\u001b[0;32m     81\u001b[0m     \u001b[1;31m# Return CompileResult to test\u001b[0m\u001b[1;33m\u001b[0m\u001b[1;33m\u001b[0m\u001b[0m\n\u001b[1;32m---> 82\u001b[1;33m     \u001b[0mcres\u001b[0m \u001b[1;33m=\u001b[0m \u001b[0mnb_func\u001b[0m\u001b[1;33m.\u001b[0m\u001b[0mcompile\u001b[0m\u001b[1;33m(\u001b[0m\u001b[0msig\u001b[0m\u001b[1;33m,\u001b[0m \u001b[1;33m**\u001b[0m\u001b[0mtargetoptions\u001b[0m\u001b[1;33m)\u001b[0m\u001b[1;33m\u001b[0m\u001b[0m\n\u001b[0m\u001b[0;32m     83\u001b[0m     \u001b[0margs\u001b[0m\u001b[1;33m,\u001b[0m \u001b[0mreturn_type\u001b[0m \u001b[1;33m=\u001b[0m \u001b[0msigutils\u001b[0m\u001b[1;33m.\u001b[0m\u001b[0mnormalize_signature\u001b[0m\u001b[1;33m(\u001b[0m\u001b[0msig\u001b[0m\u001b[1;33m)\u001b[0m\u001b[1;33m\u001b[0m\u001b[0m\n\u001b[0;32m     84\u001b[0m     \u001b[1;32mreturn\u001b[0m \u001b[0mcres\u001b[0m\u001b[1;33m,\u001b[0m \u001b[0margs\u001b[0m\u001b[1;33m,\u001b[0m \u001b[0mreturn_type\u001b[0m\u001b[1;33m\u001b[0m\u001b[0m\n",
      "\u001b[1;32m/home/justin/anaconda2/lib/python2.7/site-packages/numba/npyufunc/ufuncbuilder.pyc\u001b[0m in \u001b[0;36mcompile\u001b[1;34m(self, sig, locals, **targetoptions)\u001b[0m\n\u001b[0;32m     66\u001b[0m         cres = compiler.compile_extra(typingctx, targetctx, self.py_func,\n\u001b[0;32m     67\u001b[0m                                       \u001b[0margs\u001b[0m\u001b[1;33m=\u001b[0m\u001b[0margs\u001b[0m\u001b[1;33m,\u001b[0m \u001b[0mreturn_type\u001b[0m\u001b[1;33m=\u001b[0m\u001b[0mreturn_type\u001b[0m\u001b[1;33m,\u001b[0m\u001b[1;33m\u001b[0m\u001b[0m\n\u001b[1;32m---> 68\u001b[1;33m                                       flags=flags, locals=locals)\n\u001b[0m\u001b[0;32m     69\u001b[0m \u001b[1;33m\u001b[0m\u001b[0m\n\u001b[0;32m     70\u001b[0m         \u001b[0mself\u001b[0m\u001b[1;33m.\u001b[0m\u001b[0moverloads\u001b[0m\u001b[1;33m[\u001b[0m\u001b[0mcres\u001b[0m\u001b[1;33m.\u001b[0m\u001b[0msignature\u001b[0m\u001b[1;33m]\u001b[0m \u001b[1;33m=\u001b[0m \u001b[0mcres\u001b[0m\u001b[1;33m\u001b[0m\u001b[0m\n",
      "\u001b[1;32m/home/justin/anaconda2/lib/python2.7/site-packages/numba/compiler.pyc\u001b[0m in \u001b[0;36mcompile_extra\u001b[1;34m(typingctx, targetctx, func, args, return_type, flags, locals, library)\u001b[0m\n\u001b[0;32m    663\u001b[0m     pipeline = Pipeline(typingctx, targetctx, library,\n\u001b[0;32m    664\u001b[0m                         args, return_type, flags, locals)\n\u001b[1;32m--> 665\u001b[1;33m     \u001b[1;32mreturn\u001b[0m \u001b[0mpipeline\u001b[0m\u001b[1;33m.\u001b[0m\u001b[0mcompile_extra\u001b[0m\u001b[1;33m(\u001b[0m\u001b[0mfunc\u001b[0m\u001b[1;33m)\u001b[0m\u001b[1;33m\u001b[0m\u001b[0m\n\u001b[0m\u001b[0;32m    666\u001b[0m \u001b[1;33m\u001b[0m\u001b[0m\n\u001b[0;32m    667\u001b[0m \u001b[1;33m\u001b[0m\u001b[0m\n",
      "\u001b[1;32m/home/justin/anaconda2/lib/python2.7/site-packages/numba/compiler.pyc\u001b[0m in \u001b[0;36mcompile_extra\u001b[1;34m(self, func)\u001b[0m\n\u001b[0;32m    364\u001b[0m                 \u001b[1;32mraise\u001b[0m \u001b[0me\u001b[0m\u001b[1;33m\u001b[0m\u001b[0m\n\u001b[0;32m    365\u001b[0m \u001b[1;33m\u001b[0m\u001b[0m\n\u001b[1;32m--> 366\u001b[1;33m         \u001b[1;32mreturn\u001b[0m \u001b[0mself\u001b[0m\u001b[1;33m.\u001b[0m\u001b[0mcompile_bytecode\u001b[0m\u001b[1;33m(\u001b[0m\u001b[0mbc\u001b[0m\u001b[1;33m,\u001b[0m \u001b[0mfunc_attr\u001b[0m\u001b[1;33m=\u001b[0m\u001b[0mself\u001b[0m\u001b[1;33m.\u001b[0m\u001b[0mfunc_attr\u001b[0m\u001b[1;33m)\u001b[0m\u001b[1;33m\u001b[0m\u001b[0m\n\u001b[0m\u001b[0;32m    367\u001b[0m \u001b[1;33m\u001b[0m\u001b[0m\n\u001b[0;32m    368\u001b[0m     def compile_bytecode(self, bc, lifted=(), lifted_from=None,\n",
      "\u001b[1;32m/home/justin/anaconda2/lib/python2.7/site-packages/numba/compiler.pyc\u001b[0m in \u001b[0;36mcompile_bytecode\u001b[1;34m(self, bc, lifted, lifted_from, func_attr)\u001b[0m\n\u001b[0;32m    373\u001b[0m         \u001b[0mself\u001b[0m\u001b[1;33m.\u001b[0m\u001b[0mlifted_from\u001b[0m \u001b[1;33m=\u001b[0m \u001b[0mlifted_from\u001b[0m\u001b[1;33m\u001b[0m\u001b[0m\n\u001b[0;32m    374\u001b[0m         \u001b[0mself\u001b[0m\u001b[1;33m.\u001b[0m\u001b[0mfunc_attr\u001b[0m \u001b[1;33m=\u001b[0m \u001b[0mfunc_attr\u001b[0m\u001b[1;33m\u001b[0m\u001b[0m\n\u001b[1;32m--> 375\u001b[1;33m         \u001b[1;32mreturn\u001b[0m \u001b[0mself\u001b[0m\u001b[1;33m.\u001b[0m\u001b[0m_compile_bytecode\u001b[0m\u001b[1;33m(\u001b[0m\u001b[1;33m)\u001b[0m\u001b[1;33m\u001b[0m\u001b[0m\n\u001b[0m\u001b[0;32m    376\u001b[0m \u001b[1;33m\u001b[0m\u001b[0m\n\u001b[0;32m    377\u001b[0m     \u001b[1;32mdef\u001b[0m \u001b[0mcompile_internal\u001b[0m\u001b[1;33m(\u001b[0m\u001b[0mself\u001b[0m\u001b[1;33m,\u001b[0m \u001b[0mbc\u001b[0m\u001b[1;33m,\u001b[0m \u001b[0mfunc_attr\u001b[0m\u001b[1;33m=\u001b[0m\u001b[0mDEFAULT_FUNCTION_ATTRIBUTES\u001b[0m\u001b[1;33m)\u001b[0m\u001b[1;33m:\u001b[0m\u001b[1;33m\u001b[0m\u001b[0m\n",
      "\u001b[1;32m/home/justin/anaconda2/lib/python2.7/site-packages/numba/compiler.pyc\u001b[0m in \u001b[0;36m_compile_bytecode\u001b[1;34m(self)\u001b[0m\n\u001b[0;32m    650\u001b[0m \u001b[1;33m\u001b[0m\u001b[0m\n\u001b[0;32m    651\u001b[0m         \u001b[0mpm\u001b[0m\u001b[1;33m.\u001b[0m\u001b[0mfinalize\u001b[0m\u001b[1;33m(\u001b[0m\u001b[1;33m)\u001b[0m\u001b[1;33m\u001b[0m\u001b[0m\n\u001b[1;32m--> 652\u001b[1;33m         \u001b[1;32mreturn\u001b[0m \u001b[0mpm\u001b[0m\u001b[1;33m.\u001b[0m\u001b[0mrun\u001b[0m\u001b[1;33m(\u001b[0m\u001b[0mself\u001b[0m\u001b[1;33m.\u001b[0m\u001b[0mstatus\u001b[0m\u001b[1;33m)\u001b[0m\u001b[1;33m\u001b[0m\u001b[0m\n\u001b[0m\u001b[0;32m    653\u001b[0m \u001b[1;33m\u001b[0m\u001b[0m\n\u001b[0;32m    654\u001b[0m \u001b[1;33m\u001b[0m\u001b[0m\n",
      "\u001b[1;32m/home/justin/anaconda2/lib/python2.7/site-packages/numba/compiler.pyc\u001b[0m in \u001b[0;36mrun\u001b[1;34m(self, status)\u001b[0m\n\u001b[0;32m    249\u001b[0m                     \u001b[1;31m# No more fallback pipelines?\u001b[0m\u001b[1;33m\u001b[0m\u001b[1;33m\u001b[0m\u001b[0m\n\u001b[0;32m    250\u001b[0m                     \u001b[1;32mif\u001b[0m \u001b[0mis_final_pipeline\u001b[0m\u001b[1;33m:\u001b[0m\u001b[1;33m\u001b[0m\u001b[0m\n\u001b[1;32m--> 251\u001b[1;33m                         \u001b[1;32mraise\u001b[0m \u001b[0mpatched_exception\u001b[0m\u001b[1;33m\u001b[0m\u001b[0m\n\u001b[0m\u001b[0;32m    252\u001b[0m                     \u001b[1;31m# Go to next fallback pipeline\u001b[0m\u001b[1;33m\u001b[0m\u001b[1;33m\u001b[0m\u001b[0m\n\u001b[0;32m    253\u001b[0m                     \u001b[1;32melse\u001b[0m\u001b[1;33m:\u001b[0m\u001b[1;33m\u001b[0m\u001b[0m\n",
      "\u001b[1;31mUntypedAttributeError\u001b[0m: Caused By:\nTraceback (most recent call last):\n  File \"/home/justin/anaconda2/lib/python2.7/site-packages/numba/compiler.py\", line 243, in run\n    res = stage()\n  File \"/home/justin/anaconda2/lib/python2.7/site-packages/numba/compiler.py\", line 463, in stage_nopython_frontend\n    self.locals)\n  File \"/home/justin/anaconda2/lib/python2.7/site-packages/numba/compiler.py\", line 780, in type_inference_stage\n    infer.propagate()\n  File \"/home/justin/anaconda2/lib/python2.7/site-packages/numba/typeinfer.py\", line 565, in propagate\n    raise errors[0]\nUntypedAttributeError: Unknown attribute \"shape\" of type float32\nFile \"<ipython-input-25-1d5d227fed47>\", line 4\n\nFailed at nopython (nopython frontend)\nUnknown attribute \"shape\" of type float32\nFile \"<ipython-input-25-1d5d227fed47>\", line 4"
     ]
    }
   ],
   "source": [
    "@vectorize(\"float32, float32, float32\",\n",
    "           nopython=True, target='parallel')\n",
    "def apply_numba_fp32(inputs, transform, output):\n",
    "    N_k = inputs.shape[1]\n",
    "    N_l = inputs.shape[2]\n",
    "    #output = np.empty((N_k, N_l, 3), float32)\n",
    "    for k in range(N_k):\n",
    "        for l in range(N_l):\n",
    "            output[k,l,0] = (\n",
    "                transform[0,0,k,l]*inputs[0,k,l] +\n",
    "                transform[0,1,k,l]*inputs[1,k,l]\n",
    "            )\n",
    "            output[k,l,1] = (\n",
    "                transform[1,0,k,l]*inputs[0,k,l] +\n",
    "                transform[1,1,k,l]*inputs[1,k,l]\n",
    "            )\n",
    "            output[k,l,2] = (\n",
    "                transform[2,0,k,l]*inputs[0,k,l] +\n",
    "                transform[2,1,k,l]*inputs[1,k,l]\n",
    "            )\n",
    "    return output"
   ]
  },
  {
   "cell_type": "code",
   "execution_count": null,
   "metadata": {
    "collapsed": true
   },
   "outputs": [],
   "source": []
  }
 ],
 "metadata": {
  "kernelspec": {
   "display_name": "Python 2",
   "language": "python",
   "name": "python2"
  },
  "language_info": {
   "codemirror_mode": {
    "name": "ipython",
    "version": 2
   },
   "file_extension": ".py",
   "mimetype": "text/x-python",
   "name": "python",
   "nbconvert_exporter": "python",
   "pygments_lexer": "ipython2",
   "version": "2.7.11"
  }
 },
 "nbformat": 4,
 "nbformat_minor": 0
}
