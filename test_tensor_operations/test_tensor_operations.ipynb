{
 "cells": [
  {
   "cell_type": "code",
   "execution_count": 1,
   "metadata": {
    "collapsed": false
   },
   "outputs": [
    {
     "name": "stdout",
     "output_type": "stream",
     "text": [
      "Populating the interactive namespace from numpy and matplotlib\n"
     ]
    }
   ],
   "source": [
    "%pylab inline\n",
    "from numba import jit, vectorize, float32, float64\n"
   ]
  },
  {
   "cell_type": "markdown",
   "metadata": {},
   "source": [
    "## Create test data\n",
    "This is equivalent to the first-dimension-concatenated array that results from $\\nu_e$ and $\\nu_\\mu$ fluxes binned at $400 \\;E \\times 400 \\cos\\theta$ bins.\n",
    "\n",
    "The resulting *input* array is then $2\\times400\\times400$, and the transform that must (effectively) left-multiply that is $3\\times 2\\times400\\times400$.\n",
    "\n",
    "This hopefully represents a realistic scenario for performing an accurate oscillation calculation."
   ]
  },
  {
   "cell_type": "code",
   "execution_count": 2,
   "metadata": {
    "collapsed": false
   },
   "outputs": [],
   "source": [
    "np.random.seed(0)\n",
    "xform = np.array(np.random.random_sample((3, 2, 400, 400)), dtype=np.float64)\n",
    "inputs = np.array(np.random.random_sample((2, 400, 400)), dtype=np.float64)\n",
    "\n",
    "xform_fp32 = np.array(xform, dtype=np.float32)\n",
    "inputs_fp32 = np.array(inputs, dtype=np.float32)\n",
    "\n",
    "input0 = inputs[0,::]\n",
    "input1 = inputs[1,::]\n"
   ]
  },
  {
   "cell_type": "markdown",
   "metadata": {},
   "source": [
    "## Numpy using einsum"
   ]
  },
  {
   "cell_type": "markdown",
   "metadata": {},
   "source": [
    "### Float64 math on float64 inputs/transforms"
   ]
  },
  {
   "cell_type": "code",
   "execution_count": 3,
   "metadata": {
    "collapsed": false
   },
   "outputs": [
    {
     "name": "stdout",
     "output_type": "stream",
     "text": [
      "100 loops, best of 3: 8.03 ms per loop\n"
     ]
    }
   ],
   "source": [
    "%timeit np.einsum('ij..., j...', xform, inputs, dtype=np.float64, casting='unsafe');"
   ]
  },
  {
   "cell_type": "code",
   "execution_count": 4,
   "metadata": {
    "collapsed": false
   },
   "outputs": [
    {
     "name": "stdout",
     "output_type": "stream",
     "text": [
      "(400, 400, 3)\n"
     ]
    }
   ],
   "source": [
    "output_einsum = np.einsum('ij..., j...', xform, inputs)\n",
    "print output_einsum.shape"
   ]
  },
  {
   "cell_type": "markdown",
   "metadata": {},
   "source": [
    "check that it's doing what I want it to do"
   ]
  },
  {
   "cell_type": "code",
   "execution_count": 5,
   "metadata": {
    "collapsed": false
   },
   "outputs": [
    {
     "data": {
      "text/plain": [
       "array([[ 0.01560606,  0.18573089],\n",
       "       [ 0.10818345,  0.34420619],\n",
       "       [ 0.74177861,  0.28394148]])"
      ]
     },
     "execution_count": 5,
     "metadata": {},
     "output_type": "execute_result"
    }
   ],
   "source": [
    "x = xform[:,:,1,10]\n",
    "x"
   ]
  },
  {
   "cell_type": "code",
   "execution_count": 6,
   "metadata": {
    "collapsed": false
   },
   "outputs": [
    {
     "data": {
      "text/plain": [
       "array([ 0.89478297,  0.46917306])"
      ]
     },
     "execution_count": 6,
     "metadata": {},
     "output_type": "execute_result"
    }
   ],
   "source": [
    "i = inputs[:,1,10]\n",
    "i"
   ]
  },
  {
   "cell_type": "code",
   "execution_count": 7,
   "metadata": {
    "collapsed": false
   },
   "outputs": [
    {
     "data": {
      "text/plain": [
       "array([ 0.10110397,  0.25829298,  0.79694856])"
      ]
     },
     "execution_count": 7,
     "metadata": {},
     "output_type": "execute_result"
    }
   ],
   "source": [
    "o = np.dot(x, i)\n",
    "o"
   ]
  },
  {
   "cell_type": "code",
   "execution_count": 8,
   "metadata": {
    "collapsed": false
   },
   "outputs": [
    {
     "data": {
      "text/plain": [
       "array([ 0.10110397,  0.25829298,  0.79694856])"
      ]
     },
     "execution_count": 8,
     "metadata": {},
     "output_type": "execute_result"
    }
   ],
   "source": [
    "output_einsum[1,10,:]"
   ]
  },
  {
   "cell_type": "code",
   "execution_count": 9,
   "metadata": {
    "collapsed": false
   },
   "outputs": [
    {
     "data": {
      "text/plain": [
       "True"
      ]
     },
     "execution_count": 9,
     "metadata": {},
     "output_type": "execute_result"
    }
   ],
   "source": [
    "np.all(o == output_einsum[1,10,:])"
   ]
  },
  {
   "cell_type": "markdown",
   "metadata": {
    "collapsed": true
   },
   "source": [
    "### Float32 math on float64 inputs/transforms"
   ]
  },
  {
   "cell_type": "code",
   "execution_count": 10,
   "metadata": {
    "collapsed": false
   },
   "outputs": [
    {
     "name": "stdout",
     "output_type": "stream",
     "text": [
      "100 loops, best of 3: 5.35 ms per loop\n"
     ]
    }
   ],
   "source": [
    "%timeit np.einsum('ij..., j...', xform, inputs, dtype=np.float32, casting='unsafe');"
   ]
  },
  {
   "cell_type": "markdown",
   "metadata": {
    "collapsed": true
   },
   "source": [
    "### Float32 math on float32 inputs/transforms"
   ]
  },
  {
   "cell_type": "code",
   "execution_count": 11,
   "metadata": {
    "collapsed": false
   },
   "outputs": [
    {
     "name": "stdout",
     "output_type": "stream",
     "text": [
      "100 loops, best of 3: 2.86 ms per loop\n"
     ]
    }
   ],
   "source": [
    "%timeit np.einsum('ij..., j...', xform_fp32, inputs_fp32, dtype=np.float32, casting='no');"
   ]
  },
  {
   "cell_type": "markdown",
   "metadata": {},
   "source": [
    "## Python looping"
   ]
  },
  {
   "cell_type": "code",
   "execution_count": 12,
   "metadata": {
    "collapsed": false
   },
   "outputs": [],
   "source": [
    "def apply_python(inputs, transform):\n",
    "    N_k = inputs.shape[1]\n",
    "    N_l = inputs.shape[2]\n",
    "    output = np.empty((N_k, N_l, 3), np.float64)\n",
    "    for k in range(N_k):\n",
    "        for l in range(N_l):\n",
    "            output[k,l,0] = (\n",
    "                transform[0,0,k,l]*inputs[0,k,l] +\n",
    "                transform[0,1,k,l]*inputs[1,k,l]\n",
    "            )\n",
    "            output[k,l,1] = (\n",
    "                transform[1,0,k,l]*inputs[0,k,l] +\n",
    "                transform[1,1,k,l]*inputs[1,k,l]\n",
    "            )\n",
    "            output[k,l,2] = (\n",
    "                transform[2,0,k,l]*inputs[0,k,l] +\n",
    "                transform[2,1,k,l]*inputs[1,k,l]\n",
    "            )\n",
    "    return output"
   ]
  },
  {
   "cell_type": "markdown",
   "metadata": {},
   "source": [
    "### Float64 operands"
   ]
  },
  {
   "cell_type": "code",
   "execution_count": 13,
   "metadata": {
    "collapsed": false
   },
   "outputs": [
    {
     "name": "stdout",
     "output_type": "stream",
     "text": [
      "1 loop, best of 3: 767 ms per loop\n"
     ]
    }
   ],
   "source": [
    "%timeit apply_python(inputs, xform);"
   ]
  },
  {
   "cell_type": "code",
   "execution_count": 14,
   "metadata": {
    "collapsed": false
   },
   "outputs": [
    {
     "data": {
      "text/plain": [
       "True"
      ]
     },
     "execution_count": 14,
     "metadata": {},
     "output_type": "execute_result"
    }
   ],
   "source": [
    "output_python = apply_python(inputs, xform)\n",
    "np.all(output_python == output_einsum)"
   ]
  },
  {
   "cell_type": "markdown",
   "metadata": {},
   "source": [
    "### Float32 operands"
   ]
  },
  {
   "cell_type": "code",
   "execution_count": 15,
   "metadata": {
    "collapsed": false
   },
   "outputs": [
    {
     "name": "stdout",
     "output_type": "stream",
     "text": [
      "1 loop, best of 3: 790 ms per loop\n"
     ]
    }
   ],
   "source": [
    "%timeit apply_python(inputs_fp32, xform_fp32);"
   ]
  },
  {
   "cell_type": "markdown",
   "metadata": {},
   "source": [
    "## Numba"
   ]
  },
  {
   "cell_type": "markdown",
   "metadata": {},
   "source": [
    "### Float64 math on float64 operands"
   ]
  },
  {
   "cell_type": "code",
   "execution_count": 16,
   "metadata": {
    "collapsed": false
   },
   "outputs": [],
   "source": [
    "@jit(\"float64[:,:,:](float64[:,:,:], float64[:,:,:,:])\", nopython=False, nogil=True, cache=True)\n",
    "def apply_numba(inputs, transform):\n",
    "    N_k = inputs.shape[1]\n",
    "    N_l = inputs.shape[2]\n",
    "    output = np.empty((N_k, N_l, 3), float64)\n",
    "    for k in range(N_k):\n",
    "        for l in range(N_l):\n",
    "            output[k,l,0] = (\n",
    "                transform[0,0,k,l]*inputs[0,k,l] +\n",
    "                transform[0,1,k,l]*inputs[1,k,l]\n",
    "            )\n",
    "            output[k,l,1] = (\n",
    "                transform[1,0,k,l]*inputs[0,k,l] +\n",
    "                transform[1,1,k,l]*inputs[1,k,l]\n",
    "            )\n",
    "            output[k,l,2] = (\n",
    "                transform[2,0,k,l]*inputs[0,k,l] +\n",
    "                transform[2,1,k,l]*inputs[1,k,l]\n",
    "            )\n",
    "    return output"
   ]
  },
  {
   "cell_type": "code",
   "execution_count": 17,
   "metadata": {
    "collapsed": false
   },
   "outputs": [
    {
     "name": "stdout",
     "output_type": "stream",
     "text": [
      "100 loops, best of 3: 4.45 ms per loop\n"
     ]
    }
   ],
   "source": [
    "%timeit apply_numba(inputs, xform)"
   ]
  },
  {
   "cell_type": "code",
   "execution_count": 18,
   "metadata": {
    "collapsed": false
   },
   "outputs": [
    {
     "data": {
      "text/plain": [
       "True"
      ]
     },
     "execution_count": 18,
     "metadata": {},
     "output_type": "execute_result"
    }
   ],
   "source": [
    "output_numba = apply_numba(inputs, xform)\n",
    "np.all(output_numba == output_einsum)"
   ]
  },
  {
   "cell_type": "markdown",
   "metadata": {},
   "source": [
    "### Float32 math on float32 operands"
   ]
  },
  {
   "cell_type": "code",
   "execution_count": 19,
   "metadata": {
    "collapsed": false
   },
   "outputs": [],
   "source": [
    "@jit(\"float32[:,:,:](float32[:,:,:], float32[:,:,:,:])\", nopython=True, nogil=True, cache=True)\n",
    "def apply_numba_fp32(inputs, transform):\n",
    "    N_k = inputs.shape[1]\n",
    "    N_l = inputs.shape[2]\n",
    "    output = np.empty((N_k, N_l, 3), float32)\n",
    "    for k in range(N_k):\n",
    "        for l in range(N_l):\n",
    "            output[k,l,0] = (\n",
    "                transform[0,0,k,l]*inputs[0,k,l] +\n",
    "                transform[0,1,k,l]*inputs[1,k,l]\n",
    "            )\n",
    "            output[k,l,1] = (\n",
    "                transform[1,0,k,l]*inputs[0,k,l] +\n",
    "                transform[1,1,k,l]*inputs[1,k,l]\n",
    "            )\n",
    "            output[k,l,2] = (\n",
    "                transform[2,0,k,l]*inputs[0,k,l] +\n",
    "                transform[2,1,k,l]*inputs[1,k,l]\n",
    "            )\n",
    "    return output"
   ]
  },
  {
   "cell_type": "code",
   "execution_count": 20,
   "metadata": {
    "collapsed": false
   },
   "outputs": [
    {
     "name": "stdout",
     "output_type": "stream",
     "text": [
      "100 loops, best of 3: 2.07 ms per loop\n"
     ]
    }
   ],
   "source": [
    "%timeit apply_numba_fp32(inputs_fp32, xform_fp32)"
   ]
  }
 ],
 "metadata": {
  "kernelspec": {
   "display_name": "Python 2",
   "language": "python",
   "name": "python2"
  },
  "language_info": {
   "codemirror_mode": {
    "name": "ipython",
    "version": 2
   },
   "file_extension": ".py",
   "mimetype": "text/x-python",
   "name": "python",
   "nbconvert_exporter": "python",
   "pygments_lexer": "ipython2",
   "version": "2.7.11"
  }
 },
 "nbformat": 4,
 "nbformat_minor": 0
}
