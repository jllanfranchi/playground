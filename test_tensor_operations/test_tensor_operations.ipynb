{
 "cells": [
  {
   "cell_type": "code",
   "execution_count": 1,
   "metadata": {
    "collapsed": false
   },
   "outputs": [],
   "source": [
    "import numpy as np\n",
    "from numba import jit, vectorize, float32, float64\n",
    "import pandas as pd\n",
    "from smartFormat import numFmt2, sepThreeTens, lowPrec"
   ]
  },
  {
   "cell_type": "markdown",
   "metadata": {},
   "source": [
    "# Test speed of tensor operations"
   ]
  },
  {
   "cell_type": "markdown",
   "metadata": {},
   "source": [
    "## Create test data\n",
    "This is equivalent to the first-dimension-concatenated array that results from $\\nu_e$ and $\\nu_\\mu$ fluxes binned at $400 \\;E \\times 400 \\cos\\theta$ bins.\n",
    "\n",
    "The resulting *input* array is then $2\\times400\\times400$, and the transform that must (effectively) left-multiply that is $3\\times 2\\times400\\times400$.\n",
    "\n",
    "This hopefully represents a realistic scenario for performing an accurate oscillation calculation."
   ]
  },
  {
   "cell_type": "code",
   "execution_count": 2,
   "metadata": {
    "collapsed": false
   },
   "outputs": [],
   "source": [
    "np.random.seed(0)\n",
    "xform = np.require(\n",
    "    a=np.random.random_sample((3, 2, 400, 400)),\n",
    "    dtype=np.float64,\n",
    "    requirements=['C_CONTIGUOUS', 'ALIGNED']\n",
    ")\n",
    "inputs = np.require(\n",
    "    a=np.random.random_sample((2, 400, 400)),\n",
    "    dtype=np.float64,\n",
    "    requirements=['C_CONTIGUOUS', 'ALIGNED']\n",
    ")\n",
    "xform_fp32 = np.array(xform, dtype=np.float32)\n",
    "inputs_fp32 = np.array(inputs, dtype=np.float32)"
   ]
  },
  {
   "cell_type": "code",
   "execution_count": 3,
   "metadata": {
    "collapsed": false
   },
   "outputs": [
    {
     "name": "stdout",
     "output_type": "stream",
     "text": [
      "xform.dtype = float64\n",
      "xform.flags =\n",
      "  C_CONTIGUOUS : True\n",
      "  F_CONTIGUOUS : False\n",
      "  OWNDATA : True\n",
      "  WRITEABLE : True\n",
      "  ALIGNED : True\n",
      "  UPDATEIFCOPY : False\n",
      "inputs.dtype = float64\n",
      "inputs.flags =\n",
      "  C_CONTIGUOUS : True\n",
      "  F_CONTIGUOUS : False\n",
      "  OWNDATA : True\n",
      "  WRITEABLE : True\n",
      "  ALIGNED : True\n",
      "  UPDATEIFCOPY : False\n"
     ]
    }
   ],
   "source": [
    "print 'xform.dtype =', xform.dtype\n",
    "print 'xform.flags =\\n', xform.flags\n",
    "print 'inputs.dtype =', inputs.dtype\n",
    "print 'inputs.flags =\\n', inputs.flags"
   ]
  },
  {
   "cell_type": "code",
   "execution_count": 4,
   "metadata": {
    "collapsed": false
   },
   "outputs": [
    {
     "name": "stdout",
     "output_type": "stream",
     "text": [
      "xform_fp32.dtype = float32\n",
      "xform_fp32.flags =\n",
      "  C_CONTIGUOUS : True\n",
      "  F_CONTIGUOUS : False\n",
      "  OWNDATA : True\n",
      "  WRITEABLE : True\n",
      "  ALIGNED : True\n",
      "  UPDATEIFCOPY : False\n",
      "inputs_fp32.dtype = float32\n",
      "inputs_fp32.flags =\n",
      "  C_CONTIGUOUS : True\n",
      "  F_CONTIGUOUS : False\n",
      "  OWNDATA : True\n",
      "  WRITEABLE : True\n",
      "  ALIGNED : True\n",
      "  UPDATEIFCOPY : False\n"
     ]
    }
   ],
   "source": [
    "print 'xform_fp32.dtype =', xform_fp32.dtype\n",
    "print 'xform_fp32.flags =\\n', xform_fp32.flags\n",
    "print 'inputs_fp32.dtype =', inputs_fp32.dtype\n",
    "print 'inputs_fp32.flags =\\n', inputs_fp32.flags"
   ]
  },
  {
   "cell_type": "markdown",
   "metadata": {},
   "source": [
    "## Numpy using einsum"
   ]
  },
  {
   "cell_type": "markdown",
   "metadata": {},
   "source": [
    "### Float64 math on float64 inputs/transforms"
   ]
  },
  {
   "cell_type": "code",
   "execution_count": 5,
   "metadata": {
    "collapsed": false
   },
   "outputs": [],
   "source": [
    "ein_64m_64op = %timeit -r 10 -q -o np.einsum('ij..., j...', xform, inputs, dtype=np.float64, casting='unsafe');"
   ]
  },
  {
   "cell_type": "code",
   "execution_count": 6,
   "metadata": {
    "collapsed": false
   },
   "outputs": [
    {
     "name": "stdout",
     "output_type": "stream",
     "text": [
      "Median time, einsum FP64 math / FP64 operands: 8.437e-3 sec\n"
     ]
    }
   ],
   "source": [
    "ein_64m_64op_med = np.median(ein_64m_64op.all_runs) / ein_64m_64op.loops\n",
    "print 'Median time, einsum FP64 math / FP64 operands:', \\\n",
    "        simpleFormat(ein_64m_64op_med) + ' sec'\n"
   ]
  },
  {
   "cell_type": "code",
   "execution_count": 7,
   "metadata": {
    "collapsed": false
   },
   "outputs": [
    {
     "name": "stdout",
     "output_type": "stream",
     "text": [
      "(400, 400, 3)\n"
     ]
    }
   ],
   "source": [
    "output_einsum = np.einsum('ij..., j...', xform, inputs)\n",
    "print output_einsum.shape"
   ]
  },
  {
   "cell_type": "markdown",
   "metadata": {},
   "source": [
    "check that it's doing what I want it to do"
   ]
  },
  {
   "cell_type": "code",
   "execution_count": 8,
   "metadata": {
    "collapsed": false
   },
   "outputs": [
    {
     "data": {
      "text/plain": [
       "array([[ 0.01560606,  0.18573089],\n",
       "       [ 0.10818345,  0.34420619],\n",
       "       [ 0.74177861,  0.28394148]])"
      ]
     },
     "execution_count": 8,
     "metadata": {},
     "output_type": "execute_result"
    }
   ],
   "source": [
    "x = xform[:,:,1,10]\n",
    "x"
   ]
  },
  {
   "cell_type": "code",
   "execution_count": 9,
   "metadata": {
    "collapsed": false
   },
   "outputs": [
    {
     "data": {
      "text/plain": [
       "array([ 0.89478297,  0.46917306])"
      ]
     },
     "execution_count": 9,
     "metadata": {},
     "output_type": "execute_result"
    }
   ],
   "source": [
    "i = inputs[:,1,10]\n",
    "i"
   ]
  },
  {
   "cell_type": "code",
   "execution_count": 10,
   "metadata": {
    "collapsed": false
   },
   "outputs": [
    {
     "data": {
      "text/plain": [
       "array([ 0.10110397,  0.25829298,  0.79694856])"
      ]
     },
     "execution_count": 10,
     "metadata": {},
     "output_type": "execute_result"
    }
   ],
   "source": [
    "o = np.dot(x, i)\n",
    "o"
   ]
  },
  {
   "cell_type": "code",
   "execution_count": 11,
   "metadata": {
    "collapsed": false
   },
   "outputs": [
    {
     "data": {
      "text/plain": [
       "array([ 0.10110397,  0.25829298,  0.79694856])"
      ]
     },
     "execution_count": 11,
     "metadata": {},
     "output_type": "execute_result"
    }
   ],
   "source": [
    "output_einsum[1,10,:]"
   ]
  },
  {
   "cell_type": "code",
   "execution_count": 12,
   "metadata": {
    "collapsed": false
   },
   "outputs": [
    {
     "data": {
      "text/plain": [
       "True"
      ]
     },
     "execution_count": 12,
     "metadata": {},
     "output_type": "execute_result"
    }
   ],
   "source": [
    "np.all(o == output_einsum[1,10,:])"
   ]
  },
  {
   "cell_type": "markdown",
   "metadata": {
    "collapsed": true
   },
   "source": [
    "### Float32 math on float64 inputs/transforms"
   ]
  },
  {
   "cell_type": "code",
   "execution_count": 13,
   "metadata": {
    "collapsed": false
   },
   "outputs": [],
   "source": [
    "ein_32m_64op = %timeit -r 10 -q -o np.einsum('ij..., j...', xform, inputs, dtype=np.float32, casting='unsafe');"
   ]
  },
  {
   "cell_type": "code",
   "execution_count": 14,
   "metadata": {
    "collapsed": false
   },
   "outputs": [
    {
     "name": "stdout",
     "output_type": "stream",
     "text": [
      "Median time, einsum FP32 math / FP64 operands: 5.233e-3 sec\n",
      "62.02% of ein64_64\n"
     ]
    }
   ],
   "source": [
    "ein_32m_64op_med = np.median(ein_32m_64op.all_runs) / ein_32m_64op.loops\n",
    "print 'Median time, einsum FP32 math / FP64 operands:', \\\n",
    "        simpleFormat(ein_32m_64op_med) + ' sec'\n",
    "print simpleFormat(ein_32m_64op_med / ein_64m_64op_med*100)+'% of ein64_64'\n"
   ]
  },
  {
   "cell_type": "markdown",
   "metadata": {
    "collapsed": true
   },
   "source": [
    "### Float32 math on float32 inputs/transforms"
   ]
  },
  {
   "cell_type": "code",
   "execution_count": 15,
   "metadata": {
    "collapsed": false
   },
   "outputs": [],
   "source": [
    "ein_32m_32op = %timeit -r 10 -q -o np.einsum('ij..., j...', xform_fp32, inputs_fp32, dtype=np.float32, casting='no');"
   ]
  },
  {
   "cell_type": "code",
   "execution_count": 16,
   "metadata": {
    "collapsed": false
   },
   "outputs": [
    {
     "name": "stdout",
     "output_type": "stream",
     "text": [
      "Median time, einsum FP32 math / FP32 operands: 2.812e-3 sec\n",
      "33.33% of ein64_64\n"
     ]
    }
   ],
   "source": [
    "ein_32m_32op_med = np.median(ein_32m_32op.all_runs) / ein_32m_32op.loops\n",
    "print 'Median time, einsum FP32 math / FP32 operands:', \\\n",
    "        simpleFormat(ein_32m_32op_med) + ' sec'\n",
    "print simpleFormat(ein_32m_32op_med / ein_64m_64op_med*100)+'% of ein64_64'"
   ]
  },
  {
   "cell_type": "markdown",
   "metadata": {},
   "source": [
    "## Python looping"
   ]
  },
  {
   "cell_type": "markdown",
   "metadata": {},
   "source": [
    "### Float64 math / float64 operands"
   ]
  },
  {
   "cell_type": "code",
   "execution_count": 17,
   "metadata": {
    "collapsed": false
   },
   "outputs": [],
   "source": [
    "def apply_python_fp64(inputs, transform):\n",
    "    N_k = inputs.shape[1]\n",
    "    N_l = inputs.shape[2]\n",
    "    output = np.empty((N_k, N_l, 3), np.float64)\n",
    "    for k in range(N_k):\n",
    "        for l in range(N_l):\n",
    "            output[k,l,0] = (\n",
    "                transform[0,0,k,l]*inputs[0,k,l] +\n",
    "                transform[0,1,k,l]*inputs[1,k,l]\n",
    "            )\n",
    "            output[k,l,1] = (\n",
    "                transform[1,0,k,l]*inputs[0,k,l] +\n",
    "                transform[1,1,k,l]*inputs[1,k,l]\n",
    "            )\n",
    "            output[k,l,2] = (\n",
    "                transform[2,0,k,l]*inputs[0,k,l] +\n",
    "                transform[2,1,k,l]*inputs[1,k,l]\n",
    "            )\n",
    "    return output"
   ]
  },
  {
   "cell_type": "code",
   "execution_count": 18,
   "metadata": {
    "collapsed": false
   },
   "outputs": [],
   "source": [
    "py_64m_64op = %timeit -r 5 -q -o apply_python_fp64(inputs, xform);"
   ]
  },
  {
   "cell_type": "code",
   "execution_count": 19,
   "metadata": {
    "collapsed": false
   },
   "outputs": [
    {
     "name": "stdout",
     "output_type": "stream",
     "text": [
      "Median time, Python FP64 math / FP64 operands: 7.658e-1 sec\n",
      "9076% of ein64_64\n"
     ]
    }
   ],
   "source": [
    "py_64m_64op_med = np.median(py_64m_64op.all_runs) / py_64m_64op.loops\n",
    "print 'Median time, Python FP64 math / FP64 operands:', \\\n",
    "        simpleFormat(py_64m_64op_med) + ' sec'\n",
    "print simpleFormat(py_64m_64op_med / ein_64m_64op_med*100)+'% of ein64_64'"
   ]
  },
  {
   "cell_type": "code",
   "execution_count": 21,
   "metadata": {
    "collapsed": false
   },
   "outputs": [
    {
     "data": {
      "text/plain": [
       "True"
      ]
     },
     "execution_count": 21,
     "metadata": {},
     "output_type": "execute_result"
    }
   ],
   "source": [
    "output_python = apply_python_fp64(inputs, xform)\n",
    "np.all(output_python == output_einsum)"
   ]
  },
  {
   "cell_type": "markdown",
   "metadata": {},
   "source": [
    "### Float32 math / float32 operands"
   ]
  },
  {
   "cell_type": "code",
   "execution_count": 22,
   "metadata": {
    "collapsed": false
   },
   "outputs": [],
   "source": [
    "def apply_python_fp32(inputs, transform):\n",
    "    N_k = inputs.shape[1]\n",
    "    N_l = inputs.shape[2]\n",
    "    output = np.empty((N_k, N_l, 3), np.float32)\n",
    "    for k in range(N_k):\n",
    "        for l in range(N_l):\n",
    "            output[k,l,0] = (\n",
    "                transform[0,0,k,l]*inputs[0,k,l] +\n",
    "                transform[0,1,k,l]*inputs[1,k,l]\n",
    "            )\n",
    "            output[k,l,1] = (\n",
    "                transform[1,0,k,l]*inputs[0,k,l] +\n",
    "                transform[1,1,k,l]*inputs[1,k,l]\n",
    "            )\n",
    "            output[k,l,2] = (\n",
    "                transform[2,0,k,l]*inputs[0,k,l] +\n",
    "                transform[2,1,k,l]*inputs[1,k,l]\n",
    "            )\n",
    "    return output"
   ]
  },
  {
   "cell_type": "code",
   "execution_count": 23,
   "metadata": {
    "collapsed": false
   },
   "outputs": [],
   "source": [
    "py_32m_32op = %timeit -r 5 -q -o apply_python_fp32(inputs_fp32, xform_fp32);"
   ]
  },
  {
   "cell_type": "code",
   "execution_count": 24,
   "metadata": {
    "collapsed": false
   },
   "outputs": [
    {
     "name": "stdout",
     "output_type": "stream",
     "text": [
      "Median time, Python FP32 math / FP32 operands: 7.698e-1 sec\n",
      "9124% of ein64_64\n"
     ]
    }
   ],
   "source": [
    "py_32m_32op_med = np.median(py_32m_32op.all_runs) / py_32m_32op.loops\n",
    "print 'Median time, Python FP32 math / FP32 operands:', \\\n",
    "        simpleFormat(py_32m_32op_med) + ' sec'\n",
    "print simpleFormat(py_32m_32op_med / ein_64m_64op_med*100)+'% of ein64_64'"
   ]
  },
  {
   "cell_type": "markdown",
   "metadata": {},
   "source": [
    "## Numba"
   ]
  },
  {
   "cell_type": "markdown",
   "metadata": {},
   "source": [
    "### Float64 math on float64 operands"
   ]
  },
  {
   "cell_type": "code",
   "execution_count": 25,
   "metadata": {
    "collapsed": false
   },
   "outputs": [],
   "source": [
    "@jit(\"float64[:,:,:](float64[:,:,:], float64[:,:,:,:])\", nopython=False, nogil=True, cache=True)\n",
    "def apply_numba_fp64(inputs, transform):\n",
    "    N_k = inputs.shape[1]\n",
    "    N_l = inputs.shape[2]\n",
    "    output = np.empty((N_k, N_l, 3), float64)\n",
    "    for k in range(N_k):\n",
    "        for l in range(N_l):\n",
    "            output[k,l,0] = (\n",
    "                transform[0,0,k,l]*inputs[0,k,l] +\n",
    "                transform[0,1,k,l]*inputs[1,k,l]\n",
    "            )\n",
    "            output[k,l,1] = (\n",
    "                transform[1,0,k,l]*inputs[0,k,l] +\n",
    "                transform[1,1,k,l]*inputs[1,k,l]\n",
    "            )\n",
    "            output[k,l,2] = (\n",
    "                transform[2,0,k,l]*inputs[0,k,l] +\n",
    "                transform[2,1,k,l]*inputs[1,k,l]\n",
    "            )\n",
    "    return output"
   ]
  },
  {
   "cell_type": "code",
   "execution_count": 26,
   "metadata": {
    "collapsed": false
   },
   "outputs": [],
   "source": [
    "nu_64m_64op = %timeit -r 10 -q -o apply_numba_fp64(inputs, xform)"
   ]
  },
  {
   "cell_type": "code",
   "execution_count": 27,
   "metadata": {
    "collapsed": false
   },
   "outputs": [
    {
     "name": "stdout",
     "output_type": "stream",
     "text": [
      "Median time, Numba FP64 math / FP64 operands: 5.14e-3 sec\n",
      "60.92% of ein64_64\n"
     ]
    }
   ],
   "source": [
    "nu_64m_64op_med = np.median(nu_64m_64op.all_runs) / nu_64m_64op.loops\n",
    "print 'Median time, Numba FP64 math / FP64 operands:', \\\n",
    "        simpleFormat(nu_64m_64op_med) + ' sec'\n",
    "print simpleFormat(nu_64m_64op_med / ein_64m_64op_med*100)+'% of ein64_64'"
   ]
  },
  {
   "cell_type": "code",
   "execution_count": 28,
   "metadata": {
    "collapsed": false
   },
   "outputs": [
    {
     "data": {
      "text/plain": [
       "True"
      ]
     },
     "execution_count": 28,
     "metadata": {},
     "output_type": "execute_result"
    }
   ],
   "source": [
    "output_numba = apply_numba_fp64(inputs, xform)\n",
    "np.all(output_numba == output_einsum)"
   ]
  },
  {
   "cell_type": "markdown",
   "metadata": {},
   "source": [
    "### Float32 math on float32 operands"
   ]
  },
  {
   "cell_type": "code",
   "execution_count": 29,
   "metadata": {
    "collapsed": false
   },
   "outputs": [],
   "source": [
    "@jit(\"float32[:,:,:](float32[:,:,:], float32[:,:,:,:])\", nopython=True, nogil=True, cache=True)\n",
    "def apply_numba_fp32(inputs, transform):\n",
    "    N_k = inputs.shape[1]\n",
    "    N_l = inputs.shape[2]\n",
    "    output = np.empty((N_k, N_l, 3), float32)\n",
    "    for k in range(N_k):\n",
    "        for l in range(N_l):\n",
    "            output[k,l,0] = (\n",
    "                transform[0,0,k,l]*inputs[0,k,l] +\n",
    "                transform[0,1,k,l]*inputs[1,k,l]\n",
    "            )\n",
    "            output[k,l,1] = (\n",
    "                transform[1,0,k,l]*inputs[0,k,l] +\n",
    "                transform[1,1,k,l]*inputs[1,k,l]\n",
    "            )\n",
    "            output[k,l,2] = (\n",
    "                transform[2,0,k,l]*inputs[0,k,l] +\n",
    "                transform[2,1,k,l]*inputs[1,k,l]\n",
    "            )\n",
    "    return output"
   ]
  },
  {
   "cell_type": "code",
   "execution_count": 30,
   "metadata": {
    "collapsed": false
   },
   "outputs": [],
   "source": [
    "nu_32m_32op = %timeit -r 10 -q -o apply_numba_fp32(inputs_fp32, xform_fp32)"
   ]
  },
  {
   "cell_type": "code",
   "execution_count": 31,
   "metadata": {
    "collapsed": false
   },
   "outputs": [
    {
     "name": "stdout",
     "output_type": "stream",
     "text": [
      "Median time, Numba FP32 math / FP32 operands: 2.396e-3 sec\n",
      "28.39% of ein64_64\n"
     ]
    }
   ],
   "source": [
    "nu_32m_32op_med = np.median(nu_32m_32op.all_runs) / nu_32m_32op.loops\n",
    "print 'Median time, Numba FP32 math / FP32 operands:', \\\n",
    "        simpleFormat(nu_32m_32op_med) + ' sec'\n",
    "print simpleFormat(nu_32m_32op_med / ein_64m_64op_med*100)+'% of ein64_64'"
   ]
  },
  {
   "cell_type": "markdown",
   "metadata": {},
   "source": [
    "# What about axes ordering?"
   ]
  },
  {
   "cell_type": "markdown",
   "metadata": {},
   "source": [
    "How are these affected if we change the order of the axes? I.e., keep C memory layout, but join by flavor on the *last* dimension rather than the first."
   ]
  },
  {
   "cell_type": "code",
   "execution_count": 32,
   "metadata": {
    "collapsed": false
   },
   "outputs": [],
   "source": [
    "np.random.seed(0)\n",
    "xform = np.array(np.random.random_sample((400, 400, 3, 2)),\n",
    "                 dtype=np.float64)\n",
    "inputs = np.array(np.random.random_sample((400, 400, 2)),\n",
    "                  dtype=np.float64)\n",
    "\n",
    "xform_fp32 = np.array(xform, dtype=np.float32)\n",
    "inputs_fp32 = np.array(inputs, dtype=np.float32)"
   ]
  },
  {
   "cell_type": "code",
   "execution_count": 33,
   "metadata": {
    "collapsed": false
   },
   "outputs": [],
   "source": [
    "np.random.seed(0)\n",
    "xform = np.require(\n",
    "    a=np.random.random_sample((400, 400, 3, 2)),\n",
    "    dtype=np.float64,\n",
    "    requirements=['C_CONTIGUOUS', 'ALIGNED']\n",
    ")\n",
    "inputs = np.require(\n",
    "    a=np.random.random_sample((400, 400, 2)),\n",
    "    dtype=np.float64,\n",
    "    requirements=['C_CONTIGUOUS', 'ALIGNED']\n",
    ")\n",
    "xform_fp32 = np.array(xform, dtype=np.float32)\n",
    "inputs_fp32 = np.array(inputs, dtype=np.float32)"
   ]
  },
  {
   "cell_type": "code",
   "execution_count": 34,
   "metadata": {
    "collapsed": false
   },
   "outputs": [
    {
     "name": "stdout",
     "output_type": "stream",
     "text": [
      "xform.dtype = float64\n",
      "xform.flags =\n",
      "  C_CONTIGUOUS : True\n",
      "  F_CONTIGUOUS : False\n",
      "  OWNDATA : True\n",
      "  WRITEABLE : True\n",
      "  ALIGNED : True\n",
      "  UPDATEIFCOPY : False\n",
      "inputs.dtype = float64\n",
      "inputs.flags =\n",
      "  C_CONTIGUOUS : True\n",
      "  F_CONTIGUOUS : False\n",
      "  OWNDATA : True\n",
      "  WRITEABLE : True\n",
      "  ALIGNED : True\n",
      "  UPDATEIFCOPY : False\n"
     ]
    }
   ],
   "source": [
    "print 'xform.dtype =', xform.dtype\n",
    "print 'xform.flags =\\n', xform.flags\n",
    "print 'inputs.dtype =', inputs.dtype\n",
    "print 'inputs.flags =\\n', inputs.flags"
   ]
  },
  {
   "cell_type": "code",
   "execution_count": 35,
   "metadata": {
    "collapsed": false
   },
   "outputs": [
    {
     "name": "stdout",
     "output_type": "stream",
     "text": [
      "xform_fp32.dtype = float32\n",
      "xform_fp32.flags =\n",
      "  C_CONTIGUOUS : True\n",
      "  F_CONTIGUOUS : False\n",
      "  OWNDATA : True\n",
      "  WRITEABLE : True\n",
      "  ALIGNED : True\n",
      "  UPDATEIFCOPY : False\n",
      "inputs_fp32.dtype = float32\n",
      "inputs_fp32.flags =\n",
      "  C_CONTIGUOUS : True\n",
      "  F_CONTIGUOUS : False\n",
      "  OWNDATA : True\n",
      "  WRITEABLE : True\n",
      "  ALIGNED : True\n",
      "  UPDATEIFCOPY : False\n"
     ]
    }
   ],
   "source": [
    "print 'xform_fp32.dtype =', xform_fp32.dtype\n",
    "print 'xform_fp32.flags =\\n', xform_fp32.flags\n",
    "print 'inputs_fp32.dtype =', inputs_fp32.dtype\n",
    "print 'inputs_fp32.flags =\\n', inputs_fp32.flags"
   ]
  },
  {
   "cell_type": "code",
   "execution_count": 36,
   "metadata": {
    "collapsed": false
   },
   "outputs": [],
   "source": [
    "ein_64m_64op_sw = %timeit -r 10 -q -o np.einsum('...ij, ...j', xform, inputs, dtype=np.float64, casting='unsafe');"
   ]
  },
  {
   "cell_type": "code",
   "execution_count": 37,
   "metadata": {
    "collapsed": false
   },
   "outputs": [
    {
     "name": "stdout",
     "output_type": "stream",
     "text": [
      "Median time, einsum FP64 math / FP64 operands swapped axes: 7.844e-3 sec\n",
      "92.97% of ein64_64\n"
     ]
    }
   ],
   "source": [
    "ein_64m_64op_sw_med = np.median(ein_64m_64op_sw.all_runs) / ein_64m_64op_sw.loops\n",
    "print 'Median time, einsum FP64 math / FP64 operands swapped axes:', \\\n",
    "        simpleFormat(ein_64m_64op_sw_med) + ' sec'\n",
    "print simpleFormat(ein_64m_64op_sw_med / ein_64m_64op_med*100)+'% of ein64_64'"
   ]
  },
  {
   "cell_type": "code",
   "execution_count": 38,
   "metadata": {
    "collapsed": false
   },
   "outputs": [],
   "source": [
    "ein_32m_64op_sw = %timeit -r 10 -q -o np.einsum('...ij, ...j', xform, inputs, dtype=np.float32, casting='unsafe');"
   ]
  },
  {
   "cell_type": "code",
   "execution_count": 39,
   "metadata": {
    "collapsed": false
   },
   "outputs": [
    {
     "name": "stdout",
     "output_type": "stream",
     "text": [
      "Median time, einsum FP32 math / FP64 operands swapped axes: 6.082e-2 sec\n",
      "720.9% of ein64_64\n"
     ]
    }
   ],
   "source": [
    "ein_32m_64op_sw_med = np.median(ein_32m_64op_sw.all_runs) / ein_32m_64op_sw.loops\n",
    "print 'Median time, einsum FP32 math / FP64 operands swapped axes:', \\\n",
    "        simpleFormat(ein_32m_64op_sw_med) + ' sec'\n",
    "print simpleFormat(ein_32m_64op_sw_med / ein_64m_64op_med*100)+'% of ein64_64'"
   ]
  },
  {
   "cell_type": "code",
   "execution_count": 40,
   "metadata": {
    "collapsed": false
   },
   "outputs": [],
   "source": [
    "ein_32m_32op_sw = %timeit -r 10 -q -o np.einsum('...ij, ...j', xform_fp32, inputs_fp32, dtype=np.float32, casting='unsafe');"
   ]
  },
  {
   "cell_type": "code",
   "execution_count": 41,
   "metadata": {
    "collapsed": false
   },
   "outputs": [
    {
     "name": "stdout",
     "output_type": "stream",
     "text": [
      "Median time, einsum FP32 math / FP32 operands swapped axes: 5.684e-3 sec\n",
      "67.37% of ein64_64\n"
     ]
    }
   ],
   "source": [
    "ein_32m_32op_sw_med = np.median(ein_32m_32op_sw.all_runs) / ein_32m_32op_sw.loops\n",
    "print 'Median time, einsum FP32 math / FP32 operands swapped axes:', \\\n",
    "        simpleFormat(ein_32m_32op_sw_med) + ' sec'\n",
    "print simpleFormat(ein_32m_32op_sw_med / ein_64m_64op_med*100)+'% of ein64_64'"
   ]
  },
  {
   "cell_type": "markdown",
   "metadata": {},
   "source": [
    "### Python looping"
   ]
  },
  {
   "cell_type": "markdown",
   "metadata": {},
   "source": [
    "#### 64 bit math on 64 bit operands"
   ]
  },
  {
   "cell_type": "code",
   "execution_count": 42,
   "metadata": {
    "collapsed": false,
    "scrolled": true
   },
   "outputs": [],
   "source": [
    "def apply_python_fp64_sw(inputs, transform):\n",
    "    N_k = inputs.shape[0]\n",
    "    N_l = inputs.shape[1]\n",
    "    output = np.empty((N_k, N_l, 3), np.float64)\n",
    "    for k in range(N_k):\n",
    "        for l in range(N_l):\n",
    "            output[k,l,0] = (\n",
    "                transform[k,l,0,0]*inputs[k,l,0] +\n",
    "                transform[k,l,0,1]*inputs[k,l,1]\n",
    "            )\n",
    "            output[k,l,1] = (\n",
    "                transform[k,l,1,0]*inputs[k,l,0] +\n",
    "                transform[k,l,1,1]*inputs[k,l,1]\n",
    "            )\n",
    "            output[k,l,2] = (\n",
    "                transform[k,l,2,0]*inputs[k,l,0] +\n",
    "                transform[k,l,2,1]*inputs[k,l,1]\n",
    "            )\n",
    "    return output"
   ]
  },
  {
   "cell_type": "code",
   "execution_count": 44,
   "metadata": {
    "collapsed": false
   },
   "outputs": [],
   "source": [
    "py_64m_64op_sw = %timeit -r 5 -q -o apply_python_fp64_sw(inputs, xform);"
   ]
  },
  {
   "cell_type": "code",
   "execution_count": 45,
   "metadata": {
    "collapsed": false
   },
   "outputs": [
    {
     "name": "stdout",
     "output_type": "stream",
     "text": [
      "Median time, Python FP64 math / FP64 operands swapped axes: 7.534e-1 sec\n",
      "8931% of ein64_64\n"
     ]
    }
   ],
   "source": [
    "py_64m_64op_sw_med = np.median(py_64m_64op_sw.all_runs) / py_64m_64op_sw.loops\n",
    "print 'Median time, Python FP64 math / FP64 operands swapped axes:', \\\n",
    "        simpleFormat(py_64m_64op_sw_med) + ' sec'\n",
    "print simpleFormat(py_64m_64op_sw_med / ein_64m_64op_med*100)+'% of ein64_64'"
   ]
  },
  {
   "cell_type": "code",
   "execution_count": 46,
   "metadata": {
    "collapsed": false,
    "scrolled": true
   },
   "outputs": [],
   "source": [
    "def apply_python_fp32_sw(inputs, transform):\n",
    "    N_k = inputs.shape[0]\n",
    "    N_l = inputs.shape[1]\n",
    "    output = np.empty((N_k, N_l, 3), np.float32)\n",
    "    for k in range(N_k):\n",
    "        for l in range(N_l):\n",
    "            output[k,l,0] = (\n",
    "                transform[k,l,0,0]*inputs[k,l,0] +\n",
    "                transform[k,l,0,1]*inputs[k,l,1]\n",
    "            )\n",
    "            output[k,l,1] = (\n",
    "                transform[k,l,1,0]*inputs[k,l,0] +\n",
    "                transform[k,l,1,1]*inputs[k,l,1]\n",
    "            )\n",
    "            output[k,l,2] = (\n",
    "                transform[k,l,2,0]*inputs[k,l,0] +\n",
    "                transform[k,l,2,1]*inputs[k,l,1]\n",
    "            )\n",
    "    return output"
   ]
  },
  {
   "cell_type": "code",
   "execution_count": 47,
   "metadata": {
    "collapsed": false
   },
   "outputs": [],
   "source": [
    "py_32m_32op_sw = %timeit -r 5 -q -o apply_python_fp32_sw(inputs_fp32, xform_fp32);"
   ]
  },
  {
   "cell_type": "code",
   "execution_count": 48,
   "metadata": {
    "collapsed": false
   },
   "outputs": [
    {
     "name": "stdout",
     "output_type": "stream",
     "text": [
      "Median time, Python FP32 math / FP32 operands swapped axes: 7.531e-1 sec\n",
      "8926% of ein64_64\n"
     ]
    }
   ],
   "source": [
    "py_32m_32op_sw_med = np.median(py_32m_32op_sw.all_runs) / py_32m_32op_sw.loops\n",
    "print 'Median time, Python FP32 math / FP32 operands swapped axes:', \\\n",
    "        simpleFormat(py_32m_32op_sw_med) + ' sec'\n",
    "print simpleFormat(py_32m_32op_sw_med / ein_64m_64op_med*100)+'% of ein64_64'"
   ]
  },
  {
   "cell_type": "markdown",
   "metadata": {},
   "source": [
    "### Numba looping"
   ]
  },
  {
   "cell_type": "markdown",
   "metadata": {},
   "source": [
    "#### 64 bit math on 64 bit operands"
   ]
  },
  {
   "cell_type": "code",
   "execution_count": 49,
   "metadata": {
    "collapsed": false,
    "scrolled": true
   },
   "outputs": [],
   "source": [
    "@jit(\"float64[:,:,:](float64[:,:,:], float64[:,:,:,:])\",\n",
    "     nopython=True, nogil=True, cache=True)\n",
    "def apply_numba_fp64_sw(inputs, transform):\n",
    "    N_k = inputs.shape[0]\n",
    "    N_l = inputs.shape[1]\n",
    "    output = np.empty((N_k, N_l, 3), float64)\n",
    "    for k in range(N_k):\n",
    "        for l in range(N_l):\n",
    "            output[k,l,0] = (\n",
    "                transform[k,l,0,0]*inputs[k,l,0] +\n",
    "                transform[k,l,0,1]*inputs[k,l,1]\n",
    "            )\n",
    "            output[k,l,1] = (\n",
    "                transform[k,l,1,0]*inputs[k,l,0] +\n",
    "                transform[k,l,1,1]*inputs[k,l,1]\n",
    "            )\n",
    "            output[k,l,2] = (\n",
    "                transform[k,l,2,0]*inputs[k,l,0] +\n",
    "                transform[k,l,2,1]*inputs[k,l,1]\n",
    "            )\n",
    "    return output"
   ]
  },
  {
   "cell_type": "code",
   "execution_count": 50,
   "metadata": {
    "collapsed": false
   },
   "outputs": [],
   "source": [
    "nu_64m_64op_sw = %timeit -r 10 -q -o apply_numba_fp64_sw(inputs, xform)"
   ]
  },
  {
   "cell_type": "code",
   "execution_count": 51,
   "metadata": {
    "collapsed": false
   },
   "outputs": [
    {
     "name": "stdout",
     "output_type": "stream",
     "text": [
      "Median time, Numba FP64 math / FP64 operands swapped axes: 4.053e-3 sec\n",
      "48.04% of ein64_64\n"
     ]
    }
   ],
   "source": [
    "nu_64m_64op_sw_med = np.median(nu_64m_64op_sw.all_runs) / nu_64m_64op_sw.loops\n",
    "print 'Median time, Numba FP64 math / FP64 operands swapped axes:', \\\n",
    "        simpleFormat(nu_64m_64op_sw_med) + ' sec'\n",
    "print simpleFormat(nu_64m_64op_sw_med / ein_64m_64op_med*100)+'% of ein64_64'"
   ]
  },
  {
   "cell_type": "markdown",
   "metadata": {},
   "source": [
    "#### 32 bit math on 32 bit operands"
   ]
  },
  {
   "cell_type": "code",
   "execution_count": 52,
   "metadata": {
    "collapsed": false,
    "scrolled": true
   },
   "outputs": [],
   "source": [
    "@jit(\"float32[:,:,:](float32[:,:,:], float32[:,:,:,:])\",\n",
    "     nopython=True, nogil=True, cache=True)\n",
    "def apply_numba_fp32_sw(inputs, transform):\n",
    "    N_k = inputs.shape[0]\n",
    "    N_l = inputs.shape[1]\n",
    "    output = np.empty((N_k, N_l, 3), float32)\n",
    "    for k in range(N_k):\n",
    "        for l in range(N_l):\n",
    "            output[k,l,0] = (\n",
    "                transform[k,l,0,0]*inputs[k,l,0] +\n",
    "                transform[k,l,0,1]*inputs[k,l,1]\n",
    "            )\n",
    "            output[k,l,1] = (\n",
    "                transform[k,l,1,0]*inputs[k,l,0] +\n",
    "                transform[k,l,1,1]*inputs[k,l,1]\n",
    "            )\n",
    "            output[k,l,2] = (\n",
    "                transform[k,l,2,0]*inputs[k,l,0] +\n",
    "                transform[k,l,2,1]*inputs[k,l,1]\n",
    "            )\n",
    "    return output"
   ]
  },
  {
   "cell_type": "code",
   "execution_count": 53,
   "metadata": {
    "collapsed": false
   },
   "outputs": [],
   "source": [
    "nu_32m_32op_sw = %timeit -r 10 -q -o apply_numba_fp32_sw(inputs_fp32, xform_fp32)"
   ]
  },
  {
   "cell_type": "code",
   "execution_count": 54,
   "metadata": {
    "collapsed": false
   },
   "outputs": [
    {
     "name": "stdout",
     "output_type": "stream",
     "text": [
      "Median time, Numba FP32 math / FP32 operands swapped axes: 1.999e-3 sec\n",
      "23.7% of ein64_64\n"
     ]
    }
   ],
   "source": [
    "nu_32m_32op_sw_med = np.median(nu_32m_32op_sw.all_runs) / nu_32m_32op_sw.loops\n",
    "print 'Median time, Numba FP32 math / FP32 operands swapped axes:', \\\n",
    "        simpleFormat(nu_32m_32op_sw_med) + ' sec'\n",
    "print simpleFormat(nu_32m_32op_sw_med / ein_64m_64op_med*100)+'% of ein64_64'"
   ]
  },
  {
   "cell_type": "markdown",
   "metadata": {},
   "source": [
    "# Show summary of timing results"
   ]
  },
  {
   "cell_type": "markdown",
   "metadata": {},
   "source": [
    "Tabulate the results for original axes ordering."
   ]
  },
  {
   "cell_type": "code",
   "execution_count": 55,
   "metadata": {
    "collapsed": false
   },
   "outputs": [],
   "source": [
    "timings = [\n",
    "    {'Python FP64math FP64op': py_64m_64op_med},\n",
    "    {'Python FP32math FP32op': py_32m_32op_med},\n",
    "    {'einsum FP64math FP64op': ein_64m_64op_med},\n",
    "    {'einsum FP32math FP64op': ein_32m_64op_med},\n",
    "    {'einsum FP32math FP32op': ein_32m_32op_med},\n",
    "    {'Numba FP64math FP64op':  nu_64m_64op_med},\n",
    "    {'Numba FP32math FP32op':  nu_32m_32op_med}\n",
    "]\n",
    "timings = pd.DataFrame(pd.Series(\n",
    "    [t.values()[0] for t in timings],\n",
    "    [t.keys()[0] for t in timings],\n",
    ")).T;"
   ]
  },
  {
   "cell_type": "markdown",
   "metadata": {},
   "source": [
    "Tabulate the results for swapped axes ordering."
   ]
  },
  {
   "cell_type": "code",
   "execution_count": 57,
   "metadata": {
    "collapsed": false
   },
   "outputs": [],
   "source": [
    "timings_sw = [\n",
    "    {'Python FP64math FP64op axswp': py_64m_64op_sw_med},\n",
    "    {'Python FP64math FP32op axswp': py_32m_32op_sw_med},\n",
    "    {'einsum FP64math FP64op axswp': ein_64m_64op_sw_med},\n",
    "    {'einsum FP32math FP64op axswp': ein_32m_64op_sw_med},\n",
    "    {'einsum FP32math FP32op axswp': ein_32m_32op_sw_med},\n",
    "    {'Numba FP64math FP64op axswp':  nu_64m_64op_sw_med},\n",
    "    {'Numba FP32math FP32op axswp':  nu_32m_32op_sw_med}\n",
    "]\n",
    "timings_sw = pd.DataFrame(pd.Series(\n",
    "    [t.values()[0] for t in timings_sw],\n",
    "    [t.keys()[0] for t in timings_sw],\n",
    ")).T;"
   ]
  },
  {
   "cell_type": "markdown",
   "metadata": {},
   "source": [
    "## Absolute timings (sec)"
   ]
  },
  {
   "cell_type": "markdown",
   "metadata": {
    "collapsed": true
   },
   "source": [
    "### Original axes ordering (flavor concatenated on first dimension)"
   ]
  },
  {
   "cell_type": "code",
   "execution_count": 58,
   "metadata": {
    "collapsed": false
   },
   "outputs": [
    {
     "data": {
      "text/html": [
       "<div>\n",
       "<table border=\"1\" class=\"dataframe\">\n",
       "  <thead>\n",
       "    <tr style=\"text-align: right;\">\n",
       "      <th></th>\n",
       "      <th>Python FP64math FP64op</th>\n",
       "      <th>Python FP32math FP32op</th>\n",
       "      <th>einsum FP64math FP64op</th>\n",
       "      <th>einsum FP32math FP64op</th>\n",
       "      <th>einsum FP32math FP32op</th>\n",
       "      <th>Numba FP64math FP64op</th>\n",
       "      <th>Numba FP32math FP32op</th>\n",
       "    </tr>\n",
       "  </thead>\n",
       "  <tbody>\n",
       "    <tr>\n",
       "      <th>0</th>\n",
       "      <td>0.765771</td>\n",
       "      <td>0.769782</td>\n",
       "      <td>0.008437</td>\n",
       "      <td>0.005233</td>\n",
       "      <td>0.002812</td>\n",
       "      <td>0.00514</td>\n",
       "      <td>0.002396</td>\n",
       "    </tr>\n",
       "  </tbody>\n",
       "</table>\n",
       "</div>"
      ],
      "text/plain": [
       "   Python FP64math FP64op  Python FP32math FP32op  einsum FP64math FP64op  \\\n",
       "0                0.765771                0.769782                0.008437   \n",
       "\n",
       "   einsum FP32math FP64op  einsum FP32math FP32op  Numba FP64math FP64op  \\\n",
       "0                0.005233                0.002812                0.00514   \n",
       "\n",
       "   Numba FP32math FP32op  \n",
       "0               0.002396  "
      ]
     },
     "execution_count": 58,
     "metadata": {},
     "output_type": "execute_result"
    }
   ],
   "source": [
    "timings"
   ]
  },
  {
   "cell_type": "markdown",
   "metadata": {
    "collapsed": true
   },
   "source": [
    "### Swapped axes ordering (flavor concatenated on last dimension)"
   ]
  },
  {
   "cell_type": "code",
   "execution_count": 59,
   "metadata": {
    "collapsed": false
   },
   "outputs": [
    {
     "data": {
      "text/html": [
       "<div>\n",
       "<table border=\"1\" class=\"dataframe\">\n",
       "  <thead>\n",
       "    <tr style=\"text-align: right;\">\n",
       "      <th></th>\n",
       "      <th>Python FP64math FP64op axswp</th>\n",
       "      <th>Python FP64math FP32op axswp</th>\n",
       "      <th>einsum FP64math FP64op axswp</th>\n",
       "      <th>einsum FP32math FP64op axswp</th>\n",
       "      <th>einsum FP32math FP32op axswp</th>\n",
       "      <th>Numba FP64math FP64op axswp</th>\n",
       "      <th>Numba FP32math FP32op axswp</th>\n",
       "    </tr>\n",
       "  </thead>\n",
       "  <tbody>\n",
       "    <tr>\n",
       "      <th>0</th>\n",
       "      <td>0.7535</td>\n",
       "      <td>0.753098</td>\n",
       "      <td>0.007844</td>\n",
       "      <td>0.060819</td>\n",
       "      <td>0.005684</td>\n",
       "      <td>0.004053</td>\n",
       "      <td>0.001999</td>\n",
       "    </tr>\n",
       "  </tbody>\n",
       "</table>\n",
       "</div>"
      ],
      "text/plain": [
       "   Python FP64math FP64op axswp  Python FP64math FP32op axswp  \\\n",
       "0                        0.7535                      0.753098   \n",
       "\n",
       "   einsum FP64math FP64op axswp  einsum FP32math FP64op axswp  \\\n",
       "0                      0.007844                      0.060819   \n",
       "\n",
       "   einsum FP32math FP32op axswp  Numba FP64math FP64op axswp  \\\n",
       "0                      0.005684                     0.004053   \n",
       "\n",
       "   Numba FP32math FP32op axswp  \n",
       "0                     0.001999  "
      ]
     },
     "execution_count": 59,
     "metadata": {},
     "output_type": "execute_result"
    }
   ],
   "source": [
    "timings_sw"
   ]
  },
  {
   "cell_type": "markdown",
   "metadata": {},
   "source": [
    "## Timings as fraction of einsum 64m, 64op, orig. axes"
   ]
  },
  {
   "cell_type": "markdown",
   "metadata": {
    "collapsed": true
   },
   "source": [
    "### Original axes ordering (flavor concatenated on first dimension)"
   ]
  },
  {
   "cell_type": "code",
   "execution_count": 60,
   "metadata": {
    "collapsed": false
   },
   "outputs": [
    {
     "data": {
      "text/html": [
       "<div>\n",
       "<table border=\"1\" class=\"dataframe\">\n",
       "  <thead>\n",
       "    <tr style=\"text-align: right;\">\n",
       "      <th></th>\n",
       "      <th>Python FP64math FP64op</th>\n",
       "      <th>Python FP32math FP32op</th>\n",
       "      <th>einsum FP64math FP64op</th>\n",
       "      <th>einsum FP32math FP64op</th>\n",
       "      <th>einsum FP32math FP32op</th>\n",
       "      <th>Numba FP64math FP64op</th>\n",
       "      <th>Numba FP32math FP32op</th>\n",
       "    </tr>\n",
       "  </thead>\n",
       "  <tbody>\n",
       "    <tr>\n",
       "      <th>0</th>\n",
       "      <td>90.762561</td>\n",
       "      <td>91.23798</td>\n",
       "      <td>1</td>\n",
       "      <td>0.620226</td>\n",
       "      <td>0.333314</td>\n",
       "      <td>0.609178</td>\n",
       "      <td>0.283941</td>\n",
       "    </tr>\n",
       "  </tbody>\n",
       "</table>\n",
       "</div>"
      ],
      "text/plain": [
       "   Python FP64math FP64op  Python FP32math FP32op  einsum FP64math FP64op  \\\n",
       "0               90.762561                91.23798                       1   \n",
       "\n",
       "   einsum FP32math FP64op  einsum FP32math FP32op  Numba FP64math FP64op  \\\n",
       "0                0.620226                0.333314               0.609178   \n",
       "\n",
       "   Numba FP32math FP32op  \n",
       "0               0.283941  "
      ]
     },
     "execution_count": 60,
     "metadata": {},
     "output_type": "execute_result"
    }
   ],
   "source": [
    "timings / timings['einsum FP64math FP64op'].values"
   ]
  },
  {
   "cell_type": "markdown",
   "metadata": {},
   "source": [
    "### Swapped axes"
   ]
  },
  {
   "cell_type": "code",
   "execution_count": 61,
   "metadata": {
    "collapsed": false
   },
   "outputs": [
    {
     "data": {
      "text/html": [
       "<div>\n",
       "<table border=\"1\" class=\"dataframe\">\n",
       "  <thead>\n",
       "    <tr style=\"text-align: right;\">\n",
       "      <th></th>\n",
       "      <th>Python FP64math FP64op axswp</th>\n",
       "      <th>Python FP64math FP32op axswp</th>\n",
       "      <th>einsum FP64math FP64op axswp</th>\n",
       "      <th>einsum FP32math FP64op axswp</th>\n",
       "      <th>einsum FP32math FP32op axswp</th>\n",
       "      <th>Numba FP64math FP64op axswp</th>\n",
       "      <th>Numba FP32math FP32op axswp</th>\n",
       "    </tr>\n",
       "  </thead>\n",
       "  <tbody>\n",
       "    <tr>\n",
       "      <th>0</th>\n",
       "      <td>89.308156</td>\n",
       "      <td>89.260512</td>\n",
       "      <td>0.929699</td>\n",
       "      <td>7.208568</td>\n",
       "      <td>0.673736</td>\n",
       "      <td>0.480363</td>\n",
       "      <td>0.236975</td>\n",
       "    </tr>\n",
       "  </tbody>\n",
       "</table>\n",
       "</div>"
      ],
      "text/plain": [
       "   Python FP64math FP64op axswp  Python FP64math FP32op axswp  \\\n",
       "0                     89.308156                     89.260512   \n",
       "\n",
       "   einsum FP64math FP64op axswp  einsum FP32math FP64op axswp  \\\n",
       "0                      0.929699                      7.208568   \n",
       "\n",
       "   einsum FP32math FP32op axswp  Numba FP64math FP64op axswp  \\\n",
       "0                      0.673736                     0.480363   \n",
       "\n",
       "   Numba FP32math FP32op axswp  \n",
       "0                     0.236975  "
      ]
     },
     "execution_count": 61,
     "metadata": {},
     "output_type": "execute_result"
    }
   ],
   "source": [
    "timings_sw / timings['einsum FP64math FP64op'].values"
   ]
  },
  {
   "cell_type": "markdown",
   "metadata": {},
   "source": [
    "# Computer used for test"
   ]
  },
  {
   "cell_type": "code",
   "execution_count": 62,
   "metadata": {
    "collapsed": false
   },
   "outputs": [
    {
     "data": {
      "text/plain": [
       "['Architecture:          x86_64',\n",
       " 'CPU op-mode(s):        32-bit, 64-bit',\n",
       " 'Byte Order:            Little Endian',\n",
       " 'CPU(s):                2',\n",
       " 'On-line CPU(s) list:   0,1',\n",
       " 'Thread(s) per core:    1',\n",
       " 'Core(s) per socket:    2',\n",
       " 'Socket(s):             1',\n",
       " 'NUMA node(s):          1',\n",
       " 'Vendor ID:             GenuineIntel',\n",
       " 'CPU family:            6',\n",
       " 'Model:                 23',\n",
       " 'Model name:            Intel(R) Core(TM)2 Duo CPU     P8600  @ 2.40GHz',\n",
       " 'Stepping:              10',\n",
       " 'CPU MHz:               2394.000',\n",
       " 'CPU max MHz:           2394.0000',\n",
       " 'CPU min MHz:           798.0000',\n",
       " 'BogoMIPS:              4778.16',\n",
       " 'Virtualization:        VT-x',\n",
       " 'L1d cache:             32K',\n",
       " 'L1i cache:             32K',\n",
       " 'L2 cache:              3072K',\n",
       " 'NUMA node0 CPU(s):     0,1']"
      ]
     },
     "execution_count": 62,
     "metadata": {},
     "output_type": "execute_result"
    }
   ],
   "source": [
    "!!lscpu"
   ]
  }
 ],
 "metadata": {
  "kernelspec": {
   "display_name": "Python 2",
   "language": "python",
   "name": "python2"
  },
  "language_info": {
   "codemirror_mode": {
    "name": "ipython",
    "version": 2
   },
   "file_extension": ".py",
   "mimetype": "text/x-python",
   "name": "python",
   "nbconvert_exporter": "python",
   "pygments_lexer": "ipython2",
   "version": "2.7.11"
  }
 },
 "nbformat": 4,
 "nbformat_minor": 0
}
