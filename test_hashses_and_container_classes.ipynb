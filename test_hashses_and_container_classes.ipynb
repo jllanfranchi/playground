{
 "cells": [
  {
   "cell_type": "code",
   "execution_count": 34,
   "metadata": {
    "collapsed": true
   },
   "outputs": [],
   "source": [
    "import hashlib, struct\n",
    "import cPickle as pickle\n",
    "import numpy as np\n",
    "from pisa.utils.jsons import dumps\n",
    "from pisa.utils.hash import hash_obj"
   ]
  },
  {
   "cell_type": "code",
   "execution_count": 35,
   "metadata": {
    "collapsed": false
   },
   "outputs": [
    {
     "data": {
      "text/plain": [
       "32"
      ]
     },
     "execution_count": 35,
     "metadata": {},
     "output_type": "execute_result"
    }
   ],
   "source": [
    "len(hashlib.md5(dumps([0,1,2])).hexdigest())\n"
   ]
  },
  {
   "cell_type": "markdown",
   "metadata": {
    "collapsed": true
   },
   "source": [
    "Old version that was developed here (now probably out of sync with official version in PISA...):\n",
    "```python\n",
    "def hash_obj(obj):\n",
    "    hash_val, = struct.unpack('<q', hashlib.md5(\n",
    "            pickle.dumps(obj, pickle.HIGHEST_PROTOCOL)\n",
    "        ).digest()[:8])\n",
    "    return hash_val\n",
    "```"
   ]
  },
  {
   "cell_type": "code",
   "execution_count": 38,
   "metadata": {
    "collapsed": false
   },
   "outputs": [
    {
     "name": "stdout",
     "output_type": "stream",
     "text": [
      "5808667850487776704\n"
     ]
    }
   ],
   "source": [
    "print hash_obj([0, 1, 2])"
   ]
  },
  {
   "cell_type": "code",
   "execution_count": 39,
   "metadata": {
    "collapsed": false
   },
   "outputs": [
    {
     "data": {
      "text/plain": [
       "34.232986368579887"
      ]
     },
     "execution_count": 39,
     "metadata": {},
     "output_type": "execute_result"
    }
   ],
   "source": [
    "bits = 64*2\n",
    "n_elements = 200\n",
    "np.log10(2*2**bits/(n_elements*(n_elements-1)))"
   ]
  },
  {
   "cell_type": "markdown",
   "metadata": {},
   "source": [
    "Testing out a container class but that:\n",
    "* `c[0] = 1` assigns `1` to the object that lives at position `0`\n",
    "* `c['aeff_scale'] = 1` has the same effect\n",
    "* `c` returns values for all objects in `c`\n",
    "* `c.values` does the same\n",
    "* `c.values[2:8] = [6, 1, 8, 9, 5]` assigns those values to the `values` properties of the third through seventh entities in `c`\n",
    "* `c.priors` returns priors for all objects in `c`"
   ]
  },
  {
   "cell_type": "code",
   "execution_count": 40,
   "metadata": {
    "collapsed": false
   },
   "outputs": [
    {
     "data": {
      "text/plain": [
       "'zero'"
      ]
     },
     "execution_count": 40,
     "metadata": {},
     "output_type": "execute_result"
    }
   ],
   "source": [
    "l = list(['zero', 'one', 'two'])\n",
    "l.__getitem__(0)"
   ]
  },
  {
   "cell_type": "code",
   "execution_count": 41,
   "metadata": {
    "collapsed": false
   },
   "outputs": [
    {
     "data": {
      "text/plain": [
       "['zero', 'one', 'two']"
      ]
     },
     "execution_count": 41,
     "metadata": {},
     "output_type": "execute_result"
    }
   ],
   "source": [
    "[x for x in l.__iter__()]"
   ]
  },
  {
   "cell_type": "code",
   "execution_count": 42,
   "metadata": {
    "collapsed": false
   },
   "outputs": [
    {
     "name": "stdout",
     "output_type": "stream",
     "text": [
      "['zero', 1, 'two']\n"
     ]
    }
   ],
   "source": [
    "l.__setitem__(1, 1)\n",
    "print l"
   ]
  },
  {
   "cell_type": "code",
   "execution_count": 43,
   "metadata": {
    "collapsed": false
   },
   "outputs": [
    {
     "data": {
      "text/plain": [
       "[1, 'two']"
      ]
     },
     "execution_count": 43,
     "metadata": {},
     "output_type": "execute_result"
    }
   ],
   "source": [
    "l.__getslice__(1,3)"
   ]
  },
  {
   "cell_type": "code",
   "execution_count": 44,
   "metadata": {
    "collapsed": false
   },
   "outputs": [
    {
     "name": "stdout",
     "output_type": "stream",
     "text": [
      "['zero', 'b', 'c']\n"
     ]
    }
   ],
   "source": [
    "l.__setslice__(1, 3, ('b', 'c'))\n",
    "print l"
   ]
  },
  {
   "cell_type": "code",
   "execution_count": 45,
   "metadata": {
    "collapsed": true
   },
   "outputs": [],
   "source": [
    "from functools import total_ordering\n",
    "from collections import OrderedDict"
   ]
  },
  {
   "cell_type": "code",
   "execution_count": 46,
   "metadata": {
    "collapsed": false
   },
   "outputs": [],
   "source": [
    "from pisa.core.param import Param, ParamSet"
   ]
  },
  {
   "cell_type": "code",
   "execution_count": 47,
   "metadata": {
    "collapsed": false
   },
   "outputs": [
    {
     "name": "stdout",
     "output_type": "stream",
     "text": [
      "(2.5, 1.5, 1.5)\n",
      "a=2.5; prior=None, range=(1, 5), is_fixed=False, is_discrete=False; help=\"\"\n",
      "(1, 1.5, 1.5)\n",
      "{\\rm a}=1,\\,{\\rm b}=1.5,\\,\\int{\\rm c}=1.5\n"
     ]
    }
   ],
   "source": [
    "p0 = Param(name='c', value=1.5, prior=None, range=[1,2],\n",
    "           is_fixed=False, is_discrete=False, tex=r'\\int{\\rm c}')\n",
    "p1 = Param(name='a', value=2.5, prior=None, range=[1,5],\n",
    "           is_fixed=False, is_discrete=False, tex=r'{\\rm a}')\n",
    "p2 = Param(name='b', value=1.5, prior=None, range=[1,2],\n",
    "           is_fixed=False, is_discrete=False, tex=r'{\\rm b}')\n",
    "c = ParamSet(p0, p1, p2)\n",
    "print c.values\n",
    "print c[0]\n",
    "c[0].value = 1\n",
    "print c.values\n",
    "print c.tex"
   ]
  },
  {
   "cell_type": "code",
   "execution_count": 48,
   "metadata": {
    "collapsed": false
   },
   "outputs": [
    {
     "name": "stdout",
     "output_type": "stream",
     "text": [
      "(3, 2, 1)\n",
      "3\n",
      "3\n"
     ]
    }
   ],
   "source": [
    "c.values = [3, 2, 1]\n",
    "print c.values\n",
    "print c.values[0]\n",
    "print c[0].value"
   ]
  },
  {
   "cell_type": "code",
   "execution_count": 49,
   "metadata": {
    "collapsed": false
   },
   "outputs": [
    {
     "name": "stdout",
     "output_type": "stream",
     "text": [
      "priors: (None, None, None)\n",
      "names: ('a', 'b', 'c')\n"
     ]
    }
   ],
   "source": [
    "print 'priors:', c.priors\n",
    "print 'names:', c.names"
   ]
  },
  {
   "cell_type": "code",
   "execution_count": 50,
   "metadata": {
    "collapsed": false
   },
   "outputs": [
    {
     "name": "stdout",
     "output_type": "stream",
     "text": [
      "a=3; prior=None, range=(1, 5), is_fixed=False, is_discrete=False; help=\"\"\n",
      "3\n"
     ]
    },
    {
     "ename": "AssertionError",
     "evalue": "value=33; range=(1, 5)",
     "output_type": "error",
     "traceback": [
      "\u001b[1;31m---------------------------------------------------------------------------\u001b[0m",
      "\u001b[1;31mAssertionError\u001b[0m                            Traceback (most recent call last)",
      "\u001b[1;32m<ipython-input-50-39f1ce1c49d9>\u001b[0m in \u001b[0;36m<module>\u001b[1;34m()\u001b[0m\n\u001b[0;32m      1\u001b[0m \u001b[1;32mprint\u001b[0m \u001b[0mc\u001b[0m\u001b[1;33m[\u001b[0m\u001b[1;34m'a'\u001b[0m\u001b[1;33m]\u001b[0m\u001b[1;33m\u001b[0m\u001b[0m\n\u001b[0;32m      2\u001b[0m \u001b[1;32mprint\u001b[0m \u001b[0mc\u001b[0m\u001b[1;33m[\u001b[0m\u001b[1;34m'a'\u001b[0m\u001b[1;33m]\u001b[0m\u001b[1;33m.\u001b[0m\u001b[0mvalue\u001b[0m\u001b[1;33m\u001b[0m\u001b[0m\n\u001b[1;32m----> 3\u001b[1;33m \u001b[0mc\u001b[0m\u001b[1;33m[\u001b[0m\u001b[1;34m'a'\u001b[0m\u001b[1;33m]\u001b[0m\u001b[1;33m.\u001b[0m\u001b[0mvalue\u001b[0m \u001b[1;33m=\u001b[0m \u001b[1;36m33\u001b[0m\u001b[1;33m\u001b[0m\u001b[0m\n\u001b[0m\u001b[0;32m      4\u001b[0m \u001b[1;32mprint\u001b[0m \u001b[0mc\u001b[0m\u001b[1;33m[\u001b[0m\u001b[1;34m'a'\u001b[0m\u001b[1;33m]\u001b[0m\u001b[1;33m.\u001b[0m\u001b[0mvalue\u001b[0m\u001b[1;33m\u001b[0m\u001b[0m\n",
      "\u001b[1;32m/home/justin/cowen/code/pisa/pisa/core/param.pyc\u001b[0m in \u001b[0;36m__setattr__\u001b[1;34m(self, attr, val)\u001b[0m\n\u001b[0;32m    111\u001b[0m         \u001b[1;32mif\u001b[0m \u001b[0mattr\u001b[0m \u001b[1;32mnot\u001b[0m \u001b[1;32min\u001b[0m \u001b[0mself\u001b[0m\u001b[1;33m.\u001b[0m\u001b[0m_slots\u001b[0m\u001b[1;33m:\u001b[0m\u001b[1;33m\u001b[0m\u001b[0m\n\u001b[0;32m    112\u001b[0m             \u001b[1;32mraise\u001b[0m \u001b[0mAttributeError\u001b[0m\u001b[1;33m(\u001b[0m\u001b[1;34m'Invalid attribute: %s'\u001b[0m \u001b[1;33m%\u001b[0m \u001b[1;33m(\u001b[0m\u001b[0mattr\u001b[0m\u001b[1;33m,\u001b[0m\u001b[1;33m)\u001b[0m\u001b[1;33m)\u001b[0m\u001b[1;33m\u001b[0m\u001b[0m\n\u001b[1;32m--> 113\u001b[1;33m         \u001b[0mobject\u001b[0m\u001b[1;33m.\u001b[0m\u001b[0m__setattr__\u001b[0m\u001b[1;33m(\u001b[0m\u001b[0mself\u001b[0m\u001b[1;33m,\u001b[0m \u001b[0mattr\u001b[0m\u001b[1;33m,\u001b[0m \u001b[0mval\u001b[0m\u001b[1;33m)\u001b[0m\u001b[1;33m\u001b[0m\u001b[0m\n\u001b[0m\u001b[0;32m    114\u001b[0m \u001b[1;33m\u001b[0m\u001b[0m\n\u001b[0;32m    115\u001b[0m     \u001b[1;32mdef\u001b[0m \u001b[0m__str__\u001b[0m\u001b[1;33m(\u001b[0m\u001b[0mself\u001b[0m\u001b[1;33m)\u001b[0m\u001b[1;33m:\u001b[0m\u001b[1;33m\u001b[0m\u001b[0m\n",
      "\u001b[1;32m/home/justin/cowen/code/pisa/pisa/core/param.pyc\u001b[0m in \u001b[0;36mvalue\u001b[1;34m(self, val)\u001b[0m\n\u001b[0;32m    139\u001b[0m                         \u001b[1;34m'Passed values must have units if the param has units'\u001b[0m\u001b[1;33m\u001b[0m\u001b[0m\n\u001b[0;32m    140\u001b[0m                 \u001b[0mval\u001b[0m \u001b[1;33m=\u001b[0m \u001b[0mval\u001b[0m\u001b[1;33m.\u001b[0m\u001b[0mto\u001b[0m\u001b[1;33m(\u001b[0m\u001b[0mself\u001b[0m\u001b[1;33m.\u001b[0m\u001b[0m_value\u001b[0m\u001b[1;33m.\u001b[0m\u001b[0munits\u001b[0m\u001b[1;33m)\u001b[0m\u001b[1;33m\u001b[0m\u001b[0m\n\u001b[1;32m--> 141\u001b[1;33m             \u001b[0mself\u001b[0m\u001b[1;33m.\u001b[0m\u001b[0mvalidate_value\u001b[0m\u001b[1;33m(\u001b[0m\u001b[0mval\u001b[0m\u001b[1;33m)\u001b[0m\u001b[1;33m\u001b[0m\u001b[0m\n\u001b[0m\u001b[0;32m    142\u001b[0m         \u001b[0mself\u001b[0m\u001b[1;33m.\u001b[0m\u001b[0m_value\u001b[0m \u001b[1;33m=\u001b[0m \u001b[0mval\u001b[0m\u001b[1;33m\u001b[0m\u001b[0m\n\u001b[0;32m    143\u001b[0m         \u001b[1;32mif\u001b[0m \u001b[0mhasattr\u001b[0m\u001b[1;33m(\u001b[0m\u001b[0mself\u001b[0m\u001b[1;33m.\u001b[0m\u001b[0m_value\u001b[0m\u001b[1;33m,\u001b[0m \u001b[1;34m'units'\u001b[0m\u001b[1;33m)\u001b[0m\u001b[1;33m:\u001b[0m\u001b[1;33m\u001b[0m\u001b[0m\n",
      "\u001b[1;32m/home/justin/cowen/code/pisa/pisa/core/param.pyc\u001b[0m in \u001b[0;36mvalidate_value\u001b[1;34m(self, value)\u001b[0m\n\u001b[0;32m    126\u001b[0m                 \u001b[1;32massert\u001b[0m \u001b[0mvalue\u001b[0m \u001b[1;33m>=\u001b[0m \u001b[0mmin\u001b[0m\u001b[1;33m(\u001b[0m\u001b[0mself\u001b[0m\u001b[1;33m.\u001b[0m\u001b[0mrange\u001b[0m\u001b[1;33m)\u001b[0m \u001b[1;32mand\u001b[0m\u001b[0;31m \u001b[0m\u001b[0;31m\\\u001b[0m\u001b[1;33m\u001b[0m\u001b[0m\n\u001b[0;32m    127\u001b[0m                         \u001b[0mvalue\u001b[0m \u001b[1;33m<=\u001b[0m \u001b[0mmax\u001b[0m\u001b[1;33m(\u001b[0m\u001b[0mself\u001b[0m\u001b[1;33m.\u001b[0m\u001b[0mrange\u001b[0m\u001b[1;33m)\u001b[0m\u001b[1;33m,\u001b[0m\u001b[0;31m \u001b[0m\u001b[0;31m\\\u001b[0m\u001b[1;33m\u001b[0m\u001b[0m\n\u001b[1;32m--> 128\u001b[1;33m                         \u001b[1;34m'value='\u001b[0m \u001b[1;33m+\u001b[0m \u001b[0mstr\u001b[0m\u001b[1;33m(\u001b[0m\u001b[0mvalue\u001b[0m\u001b[1;33m)\u001b[0m \u001b[1;33m+\u001b[0m \u001b[1;34m'; range='\u001b[0m \u001b[1;33m+\u001b[0m \u001b[0mstr\u001b[0m\u001b[1;33m(\u001b[0m\u001b[0mself\u001b[0m\u001b[1;33m.\u001b[0m\u001b[0mrange\u001b[0m\u001b[1;33m)\u001b[0m\u001b[1;33m\u001b[0m\u001b[0m\n\u001b[0m\u001b[0;32m    129\u001b[0m \u001b[1;33m\u001b[0m\u001b[0m\n\u001b[0;32m    130\u001b[0m     \u001b[1;33m@\u001b[0m\u001b[0mproperty\u001b[0m\u001b[1;33m\u001b[0m\u001b[0m\n",
      "\u001b[1;31mAssertionError\u001b[0m: value=33; range=(1, 5)"
     ]
    }
   ],
   "source": [
    "print c['a']\n",
    "print c['a'].value\n",
    "c['a'].value = 33\n",
    "print c['a'].value"
   ]
  },
  {
   "cell_type": "code",
   "execution_count": 51,
   "metadata": {
    "collapsed": false
   },
   "outputs": [
    {
     "name": "stdout",
     "output_type": "stream",
     "text": [
      "False\n",
      "True\n",
      "(False, False, True)\n",
      "(False, False, True)\n",
      "(False, False, True)\n",
      "(False, False, False)\n"
     ]
    }
   ],
   "source": [
    "print c['c'].is_fixed\n",
    "c['c'].is_fixed = True\n",
    "print c['c'].is_fixed\n",
    "print c.are_fixed\n",
    "c.fix('c')\n",
    "print c.are_fixed\n",
    "c.unfix('a')\n",
    "print c.are_fixed\n",
    "c.unfix([0,1,2])\n",
    "print c.are_fixed"
   ]
  },
  {
   "cell_type": "code",
   "execution_count": 52,
   "metadata": {
    "collapsed": false
   },
   "outputs": [
    {
     "name": "stdout",
     "output_type": "stream",
     "text": [
      "()\n",
      "(False, False, False)\n",
      "(3, 2, 1)\n"
     ]
    }
   ],
   "source": [
    "fixed_params = c.fixed\n",
    "print fixed_params.are_fixed\n",
    "free_params = c.free\n",
    "print free_params.are_fixed\n",
    "print c.free.values"
   ]
  },
  {
   "cell_type": "code",
   "execution_count": 53,
   "metadata": {
    "collapsed": false
   },
   "outputs": [
    {
     "name": "stdout",
     "output_type": "stream",
     "text": [
      "6727196129584638508\n",
      "-1196596804347985876\n",
      "6727196129584638508\n"
     ]
    }
   ],
   "source": [
    "print c.values_hash\n",
    "print c.fixed.values_hash\n",
    "print c.free.values_hash"
   ]
  },
  {
   "cell_type": "code",
   "execution_count": 54,
   "metadata": {
    "collapsed": false
   },
   "outputs": [
    {
     "name": "stdout",
     "output_type": "stream",
     "text": [
      "OrderedDict([('name', 'a'), ('_value', 3), ('prior', None), ('range', (1, 5)), ('is_fixed', False), ('is_discrete', False), ('nominal_value', 2.5), ('tex', '{\\\\rm a}=3'), ('help', '')])\n",
      "-2877000503915889431\n",
      "-1196596804347985876\n",
      "-2877000503915889431\n"
     ]
    }
   ],
   "source": [
    "print c[0].state\n",
    "print c.state_hash\n",
    "print c.fixed.state_hash\n",
    "print c.free.state_hash"
   ]
  },
  {
   "cell_type": "code",
   "execution_count": 55,
   "metadata": {
    "collapsed": false
   },
   "outputs": [
    {
     "name": "stdout",
     "output_type": "stream",
     "text": [
      "fixed: ()\n",
      "fixed, discrete: ()\n",
      "fixed, continuous: ()\n",
      "free: ('a', 'b', 'c')\n",
      "free, discrete: ()\n",
      "free, continuous: ('a', 'b', 'c')\n",
      "continuous, free: ('a', 'b', 'c')\n",
      "free, continuous hash: 6727196129584638508\n",
      "continuous, free hash: 6727196129584638508\n"
     ]
    }
   ],
   "source": [
    "print 'fixed:', c.fixed.names\n",
    "print 'fixed, discrete:', c.fixed.discrete.names\n",
    "print 'fixed, continuous:', c.fixed.continuous.names\n",
    "print 'free:', c.free.names\n",
    "print 'free, discrete:', c.free.discrete.names\n",
    "print 'free, continuous:', c.free.continuous.names\n",
    "print 'continuous, free:', c.continuous.free.names\n",
    "print 'free, continuous hash:', c.free.continuous.values_hash\n",
    "print 'continuous, free hash:', c.continuous.free.values_hash"
   ]
  },
  {
   "cell_type": "code",
   "execution_count": 56,
   "metadata": {
    "collapsed": false
   },
   "outputs": [
    {
     "name": "stdout",
     "output_type": "stream",
     "text": [
      "None\n",
      "0\n"
     ]
    }
   ],
   "source": [
    "print c.b.prior\n",
    "print c.priors_llh"
   ]
  }
 ],
 "metadata": {
  "kernelspec": {
   "display_name": "Python 2",
   "language": "python",
   "name": "python2"
  },
  "language_info": {
   "codemirror_mode": {
    "name": "ipython",
    "version": 2
   },
   "file_extension": ".py",
   "mimetype": "text/x-python",
   "name": "python",
   "nbconvert_exporter": "python",
   "pygments_lexer": "ipython2",
   "version": "2.7.11"
  }
 },
 "nbformat": 4,
 "nbformat_minor": 0
}
