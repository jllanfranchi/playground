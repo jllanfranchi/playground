{
 "cells": [
  {
   "cell_type": "code",
   "execution_count": 1,
   "metadata": {
    "collapsed": true
   },
   "outputs": [],
   "source": [
    "import os\n",
    "import sqlite3\n",
    "import numpy as np\n",
    "import io\n",
    "import time\n",
    "import genericUtils as GUTIL"
   ]
  },
  {
   "cell_type": "markdown",
   "metadata": {},
   "source": [
    "# Insert / read whole numpy arrays"
   ]
  },
  {
   "cell_type": "markdown",
   "metadata": {},
   "source": [
    "http://stackoverflow.com/questions/18621513/python-insert-numpy-array-into-sqlite3-database"
   ]
  },
  {
   "cell_type": "code",
   "execution_count": 2,
   "metadata": {
    "collapsed": true
   },
   "outputs": [],
   "source": [
    "def adapt_array(arr):\n",
    "    out = io.BytesIO()\n",
    "    np.save(out, arr)\n",
    "    out.seek(0)\n",
    "    return sqlite3.Binary(out.read())\n",
    "\n",
    "def convert_array(text):\n",
    "    out = io.BytesIO(text)\n",
    "    out.seek(0)\n",
    "    return np.load(out)\n",
    "\n",
    "# Converts np.array to TEXT when inserting\n",
    "sqlite3.register_adapter(np.ndarray, adapt_array)\n",
    "\n",
    "# Converts TEXT to np.array when selecting\n",
    "sqlite3.register_converter(\"array\", convert_array)"
   ]
  },
  {
   "cell_type": "code",
   "execution_count": 8,
   "metadata": {
    "collapsed": false
   },
   "outputs": [
    {
     "name": "stdout",
     "output_type": "stream",
     "text": [
      "[[ 0  1  2  3  4  5]\n",
      " [ 6  7  8  9 10 11]]\n"
     ]
    }
   ],
   "source": [
    "x = np.arange(12).reshape(2,6)\n",
    "print x"
   ]
  },
  {
   "cell_type": "code",
   "execution_count": 9,
   "metadata": {
    "collapsed": false
   },
   "outputs": [
    {
     "data": {
      "text/plain": [
       "<sqlite3.Cursor at 0x7f9288ead420>"
      ]
     },
     "execution_count": 9,
     "metadata": {},
     "output_type": "execute_result"
    }
   ],
   "source": [
    "con = sqlite3.connect(\":memory:\", detect_types=sqlite3.PARSE_DECLTYPES)\n",
    "cur = con.cursor()\n",
    "cur.execute(\"create table test (arr array)\")"
   ]
  },
  {
   "cell_type": "code",
   "execution_count": 10,
   "metadata": {
    "collapsed": false
   },
   "outputs": [
    {
     "data": {
      "text/plain": [
       "<sqlite3.Cursor at 0x7f9288ead420>"
      ]
     },
     "execution_count": 10,
     "metadata": {},
     "output_type": "execute_result"
    }
   ],
   "source": [
    "cur.execute(\"insert into test (arr) values (?)\", (x, ))"
   ]
  },
  {
   "cell_type": "code",
   "execution_count": 11,
   "metadata": {
    "collapsed": false
   },
   "outputs": [
    {
     "name": "stdout",
     "output_type": "stream",
     "text": [
      "[[ 0  1  2  3  4  5]\n",
      " [ 6  7  8  9 10 11]]\n",
      "<type 'numpy.ndarray'>\n"
     ]
    }
   ],
   "source": [
    "cur.execute(\"select arr from test\")\n",
    "data = cur.fetchone()[0]\n",
    "\n",
    "print(data)\n",
    "print type(data)"
   ]
  },
  {
   "cell_type": "markdown",
   "metadata": {},
   "source": [
    "# Create a DB/table for storing results"
   ]
  },
  {
   "cell_type": "markdown",
   "metadata": {},
   "source": [
    "http://www.numericalexpert.com/blog/sqlite_blob_time/sqlite_blob.html"
   ]
  },
  {
   "cell_type": "code",
   "execution_count": 12,
   "metadata": {
    "collapsed": true
   },
   "outputs": [],
   "source": [
    "def create_or_open_db(db_file):\n",
    "    db_is_new = not os.path.exists(db_file)\n",
    "    con = sqlite3.connect(db_file, detect_types=sqlite3.PARSE_DECLTYPES)\n",
    "    if db_is_new:\n",
    "        print 'Creating results schema'\n",
    "        sql = '''CREATE TABLE IF NOT EXISTS results(\n",
    "        run_id            TEXT,\n",
    "        run_step_num      INTEGER,\n",
    "        theta23           REAL,\n",
    "        deltam31          REAL,\n",
    "        metric            REAL,\n",
    "        minimizer_steps   array,\n",
    "        PRIMARY KEY (run_id, run_step_num)\n",
    "        );'''\n",
    "        with con:\n",
    "            con.execute(sql)\n",
    "            \n",
    "        print 'Creating config schema'\n",
    "        sql = '''CREATE TABLE IF NOT EXISTS config(\n",
    "        run_id             TEXT PRIMARY KEY,\n",
    "        template_settings  TEXT,\n",
    "        minimizer_settings TEXT,\n",
    "        grid_settings      TEXT\n",
    "        );'''\n",
    "        with con:\n",
    "            con.execute(sql)\n",
    "    else:\n",
    "        print 'Schema exists\\n'\n",
    "    return con"
   ]
  },
  {
   "cell_type": "markdown",
   "metadata": {},
   "source": [
    "Insert a single row into the results table"
   ]
  },
  {
   "cell_type": "markdown",
   "metadata": {},
   "source": [
    "## Each insert is synchronous\n",
    "This is safest, but is about 20 times (or more) slower than syncing once after all the inserts are performed (see below)."
   ]
  },
  {
   "cell_type": "code",
   "execution_count": 13,
   "metadata": {
    "collapsed": true
   },
   "outputs": [],
   "source": [
    "rm ./test.db"
   ]
  },
  {
   "cell_type": "code",
   "execution_count": 14,
   "metadata": {
    "collapsed": false
   },
   "outputs": [
    {
     "name": "stdout",
     "output_type": "stream",
     "text": [
      "Creating results schema\n",
      "Creating config schema\n",
      "..........\n",
      "1.445 sec total (0.014 sec/insert)"
     ]
    }
   ],
   "source": [
    "np.random.seed(0)\n",
    "con = create_or_open_db('./test.db')\n",
    "sql_insert_data = '''INSERT INTO results VALUES (?,?,?,?,?,?);'''\n",
    "n_inserts = 100\n",
    "n_mod = 10\n",
    "t0 = time.time()\n",
    "for n in xrange(n_inserts):\n",
    "    if n % n_mod == 0:\n",
    "        GUTIL.wstdout('.')\n",
    "    input_data = (\n",
    "        'msu_0',\n",
    "        n,\n",
    "        1139.389,\n",
    "        0.723,\n",
    "        2e-3,\n",
    "        np.random.rand(100,6)\n",
    "    )\n",
    "    try:\n",
    "        with con:\n",
    "            con.execute(sql_insert_data, input_data)\n",
    "    except sqlite3.IntegrityError as e:\n",
    "        if not 'UNIQUE constraint failed' in e.args[0]:\n",
    "            raise\n",
    "        elif n % n_mod == 0:\n",
    "            GUTIL.wstdout('x')\n",
    "dt = time.time()-t0\n",
    "con.close()\n",
    "GUTIL.wstdout(\n",
    "    '\\n%s total (%s/insert)' %\n",
    "    (GUTIL.timediffstamp(dt), GUTIL.timediffstamp(dt/float(n_inserts)))\n",
    ")"
   ]
  },
  {
   "cell_type": "code",
   "execution_count": 15,
   "metadata": {
    "collapsed": false
   },
   "outputs": [
    {
     "ename": "NameError",
     "evalue": "name 'e' is not defined",
     "output_type": "error",
     "traceback": [
      "\u001b[1;31m---------------------------------------------------------------------------\u001b[0m",
      "\u001b[1;31mNameError\u001b[0m                                 Traceback (most recent call last)",
      "\u001b[1;32m<ipython-input-15-5e19de34f328>\u001b[0m in \u001b[0;36m<module>\u001b[1;34m()\u001b[0m\n\u001b[1;32m----> 1\u001b[1;33m \u001b[0me\u001b[0m\u001b[1;33m.\u001b[0m\u001b[0mmessage\u001b[0m\u001b[1;33m\u001b[0m\u001b[0m\n\u001b[0m",
      "\u001b[1;31mNameError\u001b[0m: name 'e' is not defined"
     ]
    }
   ],
   "source": [
    "e.message"
   ]
  },
  {
   "cell_type": "code",
   "execution_count": 16,
   "metadata": {
    "collapsed": false
   },
   "outputs": [
    {
     "name": "stdout",
     "output_type": "stream",
     "text": [
      "-rw-r----- 1 justin justin 507K May 19 22:51 \u001b[0m\u001b[00m./test.db\u001b[0m\r\n"
     ]
    }
   ],
   "source": [
    "ls -hl ./test.db"
   ]
  },
  {
   "cell_type": "code",
   "execution_count": 17,
   "metadata": {
    "collapsed": false
   },
   "outputs": [],
   "source": [
    "rm ./test2.db"
   ]
  },
  {
   "cell_type": "code",
   "execution_count": 18,
   "metadata": {
    "collapsed": false
   },
   "outputs": [
    {
     "name": "stdout",
     "output_type": "stream",
     "text": [
      "Creating results schema\n",
      "Creating config schema\n",
      "..........\n",
      "0.090 sec total (0.001 sec/insert)"
     ]
    }
   ],
   "source": [
    "np.random.seed(0)\n",
    "con = create_or_open_db('./test2.db')\n",
    "sql_insert = '''INSERT INTO results VALUES (?,?,?,?,?,?);'''\n",
    "t0=time.time()\n",
    "with con:\n",
    "    for n in xrange(n_inserts):\n",
    "        if n % n_mod == 0:\n",
    "            GUTIL.wstdout('.')\n",
    "        input_data = (\n",
    "            'msu_0',\n",
    "            n,\n",
    "            1139.389,\n",
    "            0.723,\n",
    "            2e-3,\n",
    "            np.random.rand(100,6)\n",
    "        )\n",
    "        try:\n",
    "            con.execute(sql_insert, input_data)\n",
    "        except sqlite3.IntegrityError as e:\n",
    "            if not 'UNIQUE constraint failed' in e.args[0]:\n",
    "                raise\n",
    "            elif n % n_mod == 0:\n",
    "                GUTIL.wstdout('o')\n",
    "dt = time.time()-t0\n",
    "con.close()\n",
    "GUTIL.wstdout(\n",
    "    '\\n%s total (%s/insert)' %\n",
    "    (GUTIL.timediffstamp(dt), GUTIL.timediffstamp(dt/float(n_inserts)))\n",
    ")"
   ]
  },
  {
   "cell_type": "code",
   "execution_count": 19,
   "metadata": {
    "collapsed": false
   },
   "outputs": [
    {
     "data": {
      "text/plain": [
       "0.000902400016784668"
      ]
     },
     "execution_count": 19,
     "metadata": {},
     "output_type": "execute_result"
    }
   ],
   "source": [
    "dt/n_inserts"
   ]
  },
  {
   "cell_type": "code",
   "execution_count": 20,
   "metadata": {
    "collapsed": false
   },
   "outputs": [
    {
     "name": "stdout",
     "output_type": "stream",
     "text": [
      "-rw-r----- 1 justin justin 507K May 19 22:51 \u001b[0m\u001b[00m./test2.db\u001b[0m\r\n"
     ]
    }
   ],
   "source": [
    "ls -hl ./test2.db"
   ]
  },
  {
   "cell_type": "markdown",
   "metadata": {},
   "source": [
    "Read the row back to ensure the data is correct"
   ]
  },
  {
   "cell_type": "code",
   "execution_count": 23,
   "metadata": {
    "collapsed": false,
    "scrolled": true
   },
   "outputs": [
    {
     "name": "stdout",
     "output_type": "stream",
     "text": [
      "Schema exists\n",
      "\n",
      "['metric', 'theta23', 'deltam31', 'run_id', 'run_step_num']\n",
      "[0.002, 1139.389, 0.723, u'msu_0', 0]\n",
      "shape of minimizer_steps (100, 6)\n"
     ]
    }
   ],
   "source": [
    "con = create_or_open_db('./test2.db')\n",
    "con.row_factory = sqlite3.Row\n",
    "sql = '''SELECT\n",
    "    metric, theta23, deltam31, run_id, run_step_num, minimizer_steps\n",
    "    FROM results'''\n",
    "cursor = con.execute(sql)\n",
    "for row in cursor:\n",
    "    print row.keys()[:-1]\n",
    "    print [x for x in row][:-1]\n",
    "    print 'shape of', row.keys()[-1], row['minimizer_steps'].shape\n",
    "    break"
   ]
  },
  {
   "cell_type": "code",
   "execution_count": 24,
   "metadata": {
    "collapsed": false
   },
   "outputs": [
    {
     "name": "stdout",
     "output_type": "stream",
     "text": [
      "-rw-r----- 1 justin justin 507K May 19 22:51 \u001b[0m\u001b[00m./test.db\u001b[0m\r\n"
     ]
    }
   ],
   "source": [
    "ls -hl ./test.db"
   ]
  },
  {
   "cell_type": "code",
   "execution_count": 26,
   "metadata": {
    "collapsed": false
   },
   "outputs": [],
   "source": [
    "a = row[-1]"
   ]
  }
 ],
 "metadata": {
  "kernelspec": {
   "display_name": "Python 2",
   "language": "python",
   "name": "python2"
  },
  "language_info": {
   "codemirror_mode": {
    "name": "ipython",
    "version": 2
   },
   "file_extension": ".py",
   "mimetype": "text/x-python",
   "name": "python",
   "nbconvert_exporter": "python",
   "pygments_lexer": "ipython2",
   "version": "2.7.11"
  }
 },
 "nbformat": 4,
 "nbformat_minor": 0
}
